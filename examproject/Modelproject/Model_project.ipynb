{
 "cells": [
  {
   "cell_type": "markdown",
   "metadata": {},
   "source": [
    "# Principal-Agent Model"
   ]
  },
  {
   "cell_type": "markdown",
   "metadata": {},
   "source": [
    "The principal-agent model is known from game theory and is often used to describe the interaction between an employer and employee. It solves the problem of different objectives and find an optimal contract that incentivizes the agent to excert effort, although this is costly for him. For reference see Laffont, Martimort (2002).\n",
    "\n",
    "When running the cells with sympy-output you may experience a pop-up window saying something like \"Would you allow the app to make changes on your computer (MikTeX Package Manager)\" (At least I do). It seems like the code runs regardless of your answer to this."
   ]
  },
  {
   "cell_type": "code",
   "execution_count": 1,
   "metadata": {},
   "outputs": [],
   "source": [
    "# import relevant packages\n",
    "import numpy as np\n",
    "import matplotlib as mpl\n",
    "import matplotlib.pyplot as plt\n",
    "from fractions import Fraction\n",
    "import sympy as sm \n",
    "from scipy import optimize\n",
    "sm.init_printing(use_unicode=True) # for pretty printing"
   ]
  },
  {
   "cell_type": "markdown",
   "metadata": {},
   "source": [
    "# Introduction to the Model"
   ]
  },
  {
   "cell_type": "markdown",
   "metadata": {},
   "source": [
    "The principal-agent model considers one principal, P, and one agent, A. The agent chooses an effort level, $e \\geq 0 $, which is costly for him according to the following cost function:\n",
    "\\\\[\n",
    "\\begin{eqnarray*}\n",
    "C(e) & = & \\frac{1}{2}ce^2, \\quad c>0\n",
    "\\end{eqnarray*}\\\\]\n",
    "\n",
    "The output, $y$, produced by the agent is the sum of the agent's effort and an exogenous noise term $\\epsilon$:\n",
    "\\\\[\n",
    "\\begin{eqnarray*}\n",
    "y & = & e+\\epsilon, \\quad  \\epsilon \\sim N(0,\\sigma^2)\n",
    "\\end{eqnarray*}\\\\]\n",
    "\n",
    "P can observe $y$ but neither $e$ or $\\epsilon$. We assume that P offers A a linear contract consisting of a salary, $s$, and a performance-contigent component, $by$. $b$ is a commission rate paid to A. So A's wage payment is equal to (if he accepts the contract):\n",
    "\\\\[\n",
    "\\begin{eqnarray*}\n",
    "w & = & s+by\n",
    "\\end{eqnarray*}\\\\]\n",
    "If A doesn't accept the contract he gets $\\underline{u}$=0.\n",
    "\n",
    "A is risk neutral and wants to maximize the following utility function:\n",
    "\\\\[\n",
    "\\begin{eqnarray*}\n",
    "u(w,e) & = & E(w)-C(e)=s+be-\\frac{1}{2}ce^2\n",
    "\\end{eqnarray*}\\\\]\n",
    "\n",
    "P is also risk neutral and maximizes the expected payoff under the constraints that ensures (IC) A chooses the contract that is meant for him and (PC) A accepts the contract relative to the outside option:\n",
    "\\\\[\n",
    "\\begin{eqnarray*}\n",
    "E(\\pi) & = & E(y-w)=e-s-be\n",
    "\\end{eqnarray*}\\\\]\n",
    "\\\\[\n",
    "\\begin{eqnarray*}\n",
    "s.t. \n",
    "\\end{eqnarray*}\\\\]\n",
    "\\\\[\n",
    "\\begin{eqnarray*}\n",
    "(IC) \\quad e & = & e^*\n",
    "\\end{eqnarray*}\\\\]\n",
    "\\\\[\n",
    "\\begin{eqnarray*}\n",
    "(PC) \\quad u(w,e) & \\geq & \\underline{u}\n",
    "\\end{eqnarray*}\\\\]\n",
    "\n",
    "The timing of events is as follows:\n",
    "* P chooses the parameters of the contract $(s, b)$ and makes a contract offer to A\n",
    "* A accepts or rejects the contract\n",
    "* If A accepts the contract, he determines his level of effort\n",
    "* The noise term is realized and both players receive their payoff"
   ]
  },
  {
   "cell_type": "markdown",
   "metadata": {},
   "source": [
    "# Analytical Solution "
   ]
  },
  {
   "cell_type": "markdown",
   "metadata": {},
   "source": [
    "## The Algorithm"
   ]
  },
  {
   "cell_type": "markdown",
   "metadata": {},
   "source": [
    "**Problem:** Find the optimal contract that P can offer A to incentivize A to maximize P's objective function.\n",
    "\n",
    "**Inputs:** The two maximization problems from the model described above.\n",
    "    \n",
    "**Outputs:** $b^*$, $s^*$, $e^*$.\n",
    "\n",
    "**Algorithm:** `solve_pa_model()`\n",
    "\n",
    "Use rationality to solve the model by backwards induction as the agents can foresee the rational actions. \n",
    "  1. Optimize A's unconstrained utility problem: \n",
    "      * a. Differentiate and set equal to 0\n",
    "      * b. Isolate e\n",
    "  2. Consider P's constrained maximization problem:\n",
    "      * a. Substitute one contraint into the other constraint\n",
    "      * b. Substitute the combined constraint into the objective\n",
    "      * c. Differentiate the unconstrained problem and set equal to 0\n",
    "      * d. Isolate b\n",
    "  3. Find the optimal contract: solve the system of equations to get $b^*$, $s^*$, $e^*$ \n",
    "      "
   ]
  },
  {
   "cell_type": "markdown",
   "metadata": {},
   "source": [
    "## Solve with Algebra"
   ]
  },
  {
   "cell_type": "code",
   "execution_count": 2,
   "metadata": {},
   "outputs": [],
   "source": [
    "# read the module where the variables are defined as symbols\n",
    "exec(open('symbols.py').read())"
   ]
  },
  {
   "cell_type": "markdown",
   "metadata": {},
   "source": [
    "**Step 1** Consider A's unconstrained utility problem: "
   ]
  },
  {
   "cell_type": "code",
   "execution_count": 3,
   "metadata": {},
   "outputs": [
    {
     "data": {
      "image/png": "[encoded data removed]",
      "text/latex": [
       "$$b e - \\frac{c e^{2}}{2} + s$$"
      ],
      "text/plain": [
       "         2    \n",
       "      c⋅e     \n",
       "b⋅e - ──── + s\n",
       "       2      "
      ]
     },
     "execution_count": 3,
     "metadata": {},
     "output_type": "execute_result"
    }
   ],
   "source": [
    "u = s + b*e - Fraction(1,2)*c*e**2\n",
    "u"
   ]
  },
  {
   "cell_type": "markdown",
   "metadata": {},
   "source": [
    "**Step 1.a** Differentiate and set equal to 0"
   ]
  },
  {
   "cell_type": "code",
   "execution_count": 4,
   "metadata": {},
   "outputs": [
    {
     "data": {
      "image/png": "[encoded data removed]",
      "text/latex": [
       "$$b - c e$$"
      ],
      "text/plain": [
       "b - c⋅e"
      ]
     },
     "execution_count": 4,
     "metadata": {},
     "output_type": "execute_result"
    }
   ],
   "source": [
    "A_foc = sm.diff(u, e) \n",
    "A_foc"
   ]
  },
  {
   "cell_type": "markdown",
   "metadata": {},
   "source": [
    "**Step 1.b** Isolate e "
   ]
  },
  {
   "cell_type": "code",
   "execution_count": 5,
   "metadata": {},
   "outputs": [
    {
     "data": {
      "image/png": "[encoded data removed]",
      "text/latex": [
       "$$\\left [ \\frac{b}{c}\\right ]$$"
      ],
      "text/plain": [
       "⎡b⎤\n",
       "⎢─⎥\n",
       "⎣c⎦"
      ]
     },
     "execution_count": 5,
     "metadata": {},
     "output_type": "execute_result"
    }
   ],
   "source": [
    "e_star = sm.solve(A_foc, e)\n",
    "e_star"
   ]
  },
  {
   "cell_type": "markdown",
   "metadata": {},
   "source": [
    "**Step 2.a** Consider P's constrained maximization problem: Substitute one contraint into the other constraint"
   ]
  },
  {
   "cell_type": "code",
   "execution_count": 6,
   "metadata": {},
   "outputs": [
    {
     "data": {
      "image/png": "[encoded data removed]",
      "text/latex": [
       "$$\\left [ - \\frac{b^{2}}{2 c}\\right ]$$"
      ],
      "text/plain": [
       "⎡  2 ⎤\n",
       "⎢-b  ⎥\n",
       "⎢────⎥\n",
       "⎣2⋅c ⎦"
      ]
     },
     "execution_count": 6,
     "metadata": {},
     "output_type": "execute_result"
    }
   ],
   "source": [
    "PC = s + b*e - Fraction(1,2)*c*e**2\n",
    "\n",
    "# substituting (IC) into (PC)\n",
    "PC_e_star = PC.subs(e, e_star[0]) \n",
    "\n",
    "# isolate s in the combined constraint (we use this later on)\n",
    "s_star = sm.solve(PC_e_star, s)\n",
    "s_star"
   ]
  },
  {
   "cell_type": "markdown",
   "metadata": {},
   "source": [
    "**Step 2.b** Substitute the combined contraint into the objective"
   ]
  },
  {
   "cell_type": "code",
   "execution_count": 7,
   "metadata": {},
   "outputs": [
    {
     "data": {
      "image/png": "[encoded data removed]",
      "text/latex": [
       "$$- \\frac{b^{2}}{2 c} + \\frac{b}{c}$$"
      ],
      "text/plain": [
       "    2    \n",
       "   b    b\n",
       "- ─── + ─\n",
       "  2⋅c   c"
      ]
     },
     "execution_count": 7,
     "metadata": {},
     "output_type": "execute_result"
    }
   ],
   "source": [
    "# profits (P's objective)\n",
    "pi = e - s - b*e\n",
    "\n",
    "# substituting the combined constraint into profits \n",
    "pi_uncon = pi.subs({s:s_star[0], e:e_star[0]}) \n",
    "pi_uncon"
   ]
  },
  {
   "cell_type": "markdown",
   "metadata": {},
   "source": [
    "**Step 2.c** Differentiate the unconstrained problem and set equal to 0"
   ]
  },
  {
   "cell_type": "code",
   "execution_count": 8,
   "metadata": {},
   "outputs": [
    {
     "data": {
      "image/png": "[encoded data removed]",
      "text/latex": [
       "$$- \\frac{b}{c} + \\frac{1}{c}$$"
      ],
      "text/plain": [
       "  b   1\n",
       "- ─ + ─\n",
       "  c   c"
      ]
     },
     "execution_count": 8,
     "metadata": {},
     "output_type": "execute_result"
    }
   ],
   "source": [
    "#solve the unconstrained problem\n",
    "P_foc = sm.diff(pi_uncon, b) \n",
    "P_foc"
   ]
  },
  {
   "cell_type": "markdown",
   "metadata": {},
   "source": [
    "**Step 2.d** Isolate b"
   ]
  },
  {
   "cell_type": "code",
   "execution_count": 9,
   "metadata": {},
   "outputs": [
    {
     "data": {
      "image/png": "[encoded data removed]",
      "text/latex": [
       "$$\\left [ 1\\right ]$$"
      ],
      "text/plain": [
       "[1]"
      ]
     },
     "execution_count": 9,
     "metadata": {},
     "output_type": "execute_result"
    }
   ],
   "source": [
    "b_star = sm.solve(P_foc, b)\n",
    "b_star"
   ]
  },
  {
   "cell_type": "markdown",
   "metadata": {},
   "source": [
    "**Step 3** Find the optimal contract: solve the system of equations to get $b^*$, $s^*$, $e^*$ "
   ]
  },
  {
   "cell_type": "code",
   "execution_count": 10,
   "metadata": {},
   "outputs": [
    {
     "data": {
      "image/png": "[encoded data removed]",
      "text/latex": [
       "$$\\frac{1}{c}$$"
      ],
      "text/plain": [
       "1\n",
       "─\n",
       "c"
      ]
     },
     "execution_count": 10,
     "metadata": {},
     "output_type": "execute_result"
    }
   ],
   "source": [
    "e_star = e_star[0].subs(b, b_star[0])\n",
    "e_star"
   ]
  },
  {
   "cell_type": "code",
   "execution_count": 11,
   "metadata": {},
   "outputs": [
    {
     "data": {
      "image/png": "[encoded data removed]",
      "text/latex": [
       "$$- \\frac{1}{2 c}$$"
      ],
      "text/plain": [
       "-1 \n",
       "───\n",
       "2⋅c"
      ]
     },
     "execution_count": 11,
     "metadata": {},
     "output_type": "execute_result"
    }
   ],
   "source": [
    "s_star = s_star[0].subs(b, b_star[0])\n",
    "s_star"
   ]
  },
  {
   "cell_type": "markdown",
   "metadata": {},
   "source": [
    "From this we see that it is optimal for the principal to \"sell\" the firm to the agent with the negative fixed salary, $s^*$. The agents then gets a commission rate, $b$, equal to 1 which means that the agent gets all the provenue of production. This is optimal as it incentivizes the agent to excert effort."
   ]
  },
  {
   "cell_type": "markdown",
   "metadata": {},
   "source": [
    "## Graphical Representation"
   ]
  },
  {
   "cell_type": "markdown",
   "metadata": {},
   "source": [
    "In this section I will present the results of the model for different values of c."
   ]
  },
  {
   "cell_type": "code",
   "execution_count": 12,
   "metadata": {},
   "outputs": [
    {
     "name": "stdout",
     "output_type": "stream",
     "text": [
      "e_star for different values of c: [2.0, 1.0, 0.5]\n",
      "s_star for different values of c: [-1.0, -0.5, -0.25]\n",
      "b_star for different values of c: [1, 1, 1]\n",
      "u for different values of c: [0.0, 0.0, 0.0]\n",
      "pi for different values of c: [1.0, 0.5, 0.25]\n"
     ]
    }
   ],
   "source": [
    "# a. look at different values of c\n",
    "c_vec = [0.5, 1, 2, 3, 4, 5, 10, 15, 20, 25, 30]\n",
    "\n",
    "# b. make python function out of the analytical results\n",
    "e_func = sm.lambdify(c, e_star)\n",
    "s_func = sm.lambdify(c, s_star)\n",
    "b_func = sm.lambdify(c, b_star[0]) \n",
    "u_func = sm.lambdify((c, e, s, b), u)\n",
    "pi_func = sm.lambdify((e, s, b), pi)\n",
    "\n",
    "# c. create empty list for each parameter\n",
    "e_vec = []\n",
    "s_vec = []\n",
    "b_vec = []\n",
    "u_vec = []\n",
    "pi_vec = []\n",
    "\n",
    "# d. fill out the list with different value of c\n",
    "for i in range(len(c_vec)):\n",
    "    \n",
    "    # i. optimal contract\n",
    "    e_vec.append(e_func(c_vec[i]))\n",
    "    s_vec.append(s_func(c_vec[i]))\n",
    "    b_vec.append(b_func(c_vec[i]))\n",
    "    \n",
    "    # ii. utility and profit\n",
    "    u_vec.append(u_func(c_vec[i], e_vec[i], s_vec[i], b_vec[i]))\n",
    "    pi_vec.append(pi_func(e_vec[i], s_vec[i], b_vec[i]))\n",
    "\n",
    "# e. print some of the results    \n",
    "print(f'e_star for different values of c: {e_vec[:3]}')\n",
    "print(f's_star for different values of c: {s_vec[:3]}')\n",
    "print(f'b_star for different values of c: {b_vec[:3]}')\n",
    "print(f'u for different values of c: {u_vec[:3]}')\n",
    "print(f'pi for different values of c: {pi_vec[:3]}')"
   ]
  },
  {
   "cell_type": "code",
   "execution_count": 13,
   "metadata": {},
   "outputs": [
    {
     "data": {
      "text/plain": [
       "<Figure size 432x288 with 0 Axes>"
      ]
     },
     "metadata": {},
     "output_type": "display_data"
    },
    {
     "data": {
      "image/png": "[encoded data removed]",
      "text/plain": [
       "<Figure size 432x288 with 2 Axes>"
      ]
     },
     "metadata": {
      "needs_background": "light"
     },
     "output_type": "display_data"
    }
   ],
   "source": [
    "# a. create plots\n",
    "fig = plt.figure() \n",
    "fig, ax = plt.subplots(2, 1)\n",
    "\n",
    "# b. upper figure with contract variables\n",
    "ax[0].plot(c_vec, e_vec, label = '$e^*$')\n",
    "ax[0].plot(c_vec, s_vec, label = '$s^*$')\n",
    "ax[0].plot(c_vec, b_vec, label = '$b^*$')\n",
    "ax[0].legend(loc = 'upper right')\n",
    "ax[0].set_title('Figure 1')\n",
    "\n",
    "# c. lower figure with utility and profits\n",
    "ax[1].plot(c_vec, u_vec, label = '$u$')\n",
    "ax[1].plot(c_vec, pi_vec, label = '$\\pi$')\n",
    "ax[1].legend(loc = 'upper right')\n",
    "ax[1].set_xlabel('c')\n",
    "\n",
    "# d. show\n",
    "fig.tight_layout()\n",
    "plt.show()"
   ]
  },
  {
   "cell_type": "markdown",
   "metadata": {},
   "source": [
    "From figure 1 we see that the commission rate is 1 independently of c. The effort and salary are perfectly negatively correlated.\n",
    "Futhermore it is seen from the lower graph that the agent always get a utility equal to his outside option = 0. The profit of P is decreasing in c as P needs to require a lower payment (the negative salary) from A to compensate A for the higher costs.\n"
   ]
  },
  {
   "cell_type": "markdown",
   "metadata": {},
   "source": [
    "# Numerical Solution"
   ]
  },
  {
   "cell_type": "markdown",
   "metadata": {},
   "source": [
    "The model can also be solved numerically with scipy optimize. First we need to set the parameter of the model: c to an arbitrary number. Then we define the objective function and the constraints from the principals problem. The maximization problem of the agent is implicitly included in the equality constraint. At last the model is solved and the result is compared with the analytical solution."
   ]
  },
  {
   "cell_type": "code",
   "execution_count": 14,
   "metadata": {},
   "outputs": [
    {
     "name": "stdout",
     "output_type": "stream",
     "text": [
      "Numerical result: e = 0.49999858633611555, s = -0.2499985863235172, b = 0.9999971726722311\n",
      "Analytical result: e = 0.5, s = -0.25, b = 1\n"
     ]
    }
   ],
   "source": [
    "# a. set parameter to an arbitrary number\n",
    "c_par = 2\n",
    "\n",
    "# b. define objective\n",
    "def _objective(e, s, b):\n",
    "    return -(e - s - b*e) # negative as it is a maximization problem\n",
    "\n",
    "def objective(x): # use a vector of parameters: x = [e, s, b]\n",
    "    return _objective(x[0],x[1],x[2])\n",
    "\n",
    "# c. define constraints\n",
    "def eq_constraint(x):\n",
    "    eq = x[0]\n",
    "    eq = eq - x[2]/c_par\n",
    "    return eq\n",
    "\n",
    "ineq_con = {'type': 'ineq', 'fun': lambda x: x[1] + x[2]*x[0] - 1/2*c_par*x[0]**2}\n",
    "eq_con = {'type': 'eq', 'fun': eq_constraint}\n",
    "\n",
    "# d. initial guess\n",
    "x0 = [1, 2, 3]\n",
    "\n",
    "# e. optimize\n",
    "result = optimize.minimize(objective, x0, method = 'SLSQP', constraints = [ineq_con, eq_con])\n",
    "\n",
    "# f. show results and compare to analytical solution\n",
    "print(f'Numerical result: e = {result.x[0]}, s = {result.x[1]}, b = {result.x[2]}')\n",
    "print(f'Analytical result: e = {e_func(c_par)}, s = {s_func(c_par)}, b = {b_func(c_par)}')"
   ]
  },
  {
   "cell_type": "markdown",
   "metadata": {},
   "source": [
    "The numerical and analytical results are equivalent as expected."
   ]
  },
  {
   "cell_type": "markdown",
   "metadata": {},
   "source": [
    "# Extension of the Model"
   ]
  },
  {
   "cell_type": "markdown",
   "metadata": {},
   "source": [
    "As an extension of the model I will look at a risk-averse agent. This means that the agent now maximizes the following utility function:\n",
    "\\\\[\n",
    "\\begin{eqnarray*}\n",
    "u(w,e) & = & E(w)- \\frac{1}{2}rVar(w) - C(e)=s+be-\\frac{1}{2}rb^2\\sigma^2-\\frac{1}{2}ce^2, \\quad r,\\sigma>0\n",
    "\\end{eqnarray*}\\\\]"
   ]
  },
  {
   "cell_type": "markdown",
   "metadata": {},
   "source": [
    "**Step 1** Consider A's unconstrained utility problem: "
   ]
  },
  {
   "cell_type": "code",
   "execution_count": 15,
   "metadata": {},
   "outputs": [
    {
     "data": {
      "image/png": "[encoded data removed]",
      "text/latex": [
       "$$- \\frac{b^{2} r \\sigma^{2}}{2} + b e - \\frac{c e^{2}}{2} + s$$"
      ],
      "text/plain": [
       "   2                 2    \n",
       "  b ⋅r⋅σ²         c⋅e     \n",
       "- ─────── + b⋅e - ──── + s\n",
       "     2             2      "
      ]
     },
     "execution_count": 15,
     "metadata": {},
     "output_type": "execute_result"
    }
   ],
   "source": [
    "# agent's objective: maximize utility (unconstrained problem)\n",
    "u_new = s + b*e - Fraction(1,2)*r*b**2*sigma - Fraction(1,2)*c*e**2\n",
    "u_new "
   ]
  },
  {
   "cell_type": "markdown",
   "metadata": {},
   "source": [
    "**Step 1.a-b** Differentiate, set equal to 0 and isolate e"
   ]
  },
  {
   "cell_type": "code",
   "execution_count": 16,
   "metadata": {},
   "outputs": [
    {
     "data": {
      "image/png": "[encoded data removed]",
      "text/latex": [
       "$$\\left [ \\frac{b}{c}\\right ]$$"
      ],
      "text/plain": [
       "⎡b⎤\n",
       "⎢─⎥\n",
       "⎣c⎦"
      ]
     },
     "execution_count": 16,
     "metadata": {},
     "output_type": "execute_result"
    }
   ],
   "source": [
    "# 1.a\n",
    "A_foc_new = sm.diff(u_new, e) \n",
    "\n",
    "# 1.b\n",
    "e_star_new = sm.solve(A_foc_new, e)\n",
    "e_star_new"
   ]
  },
  {
   "cell_type": "markdown",
   "metadata": {},
   "source": [
    "This is exactly the same as we found in the basic model, so we can conclude that the extension has no effect on A's maximization problem."
   ]
  },
  {
   "cell_type": "markdown",
   "metadata": {},
   "source": [
    "**Step 2.a** Consider P's constrained maximization problem: Substitute one contraint into the other constraint"
   ]
  },
  {
   "cell_type": "code",
   "execution_count": 17,
   "metadata": {},
   "outputs": [
    {
     "data": {
      "image/png": "[encoded data removed]",
      "text/latex": [
       "$$\\left [ \\frac{b^{2} \\left(c r \\sigma^{2} - 1\\right)}{2 c}\\right ]$$"
      ],
      "text/plain": [
       "⎡ 2             ⎤\n",
       "⎢b ⋅(c⋅r⋅σ² - 1)⎥\n",
       "⎢───────────────⎥\n",
       "⎣      2⋅c      ⎦"
      ]
     },
     "execution_count": 17,
     "metadata": {},
     "output_type": "execute_result"
    }
   ],
   "source": [
    "PC_new = s + b*e -  Fraction(1,2)*r*b**2*sigma - Fraction(1,2)*c*e**2\n",
    "\n",
    "# substitute (IC) into (PC)\n",
    "PC_e_star_new = PC_new.subs(e, e_star_new[0]) \n",
    "s_star_new = sm.solve(PC_e_star_new, s)\n",
    "s_star_new"
   ]
  },
  {
   "cell_type": "markdown",
   "metadata": {},
   "source": [
    "**Step 2.b-d** Substitute the combined contraint into the objective, differentiate and set equal to zero and isolate b."
   ]
  },
  {
   "cell_type": "code",
   "execution_count": 18,
   "metadata": {},
   "outputs": [
    {
     "data": {
      "image/png": "[encoded data removed]",
      "text/latex": [
       "$$\\left [ \\frac{1}{c r \\sigma^{2} + 1}\\right ]$$"
      ],
      "text/plain": [
       "⎡    1     ⎤\n",
       "⎢──────────⎥\n",
       "⎣c⋅r⋅σ² + 1⎦"
      ]
     },
     "execution_count": 18,
     "metadata": {},
     "output_type": "execute_result"
    }
   ],
   "source": [
    "# 2.b substituting PC into profits \n",
    "pi_uncon_new = pi.subs({s:s_star_new[0], e:e_star_new[0]}) \n",
    "\n",
    "# 2.c solve the unconstrained problem\n",
    "P_foc_new = sm.diff(pi_uncon_new, b) \n",
    "\n",
    "# 2.d find the optimal contract\n",
    "b_star_new = sm.solve(P_foc_new, b)\n",
    "b_star_new"
   ]
  },
  {
   "cell_type": "markdown",
   "metadata": {},
   "source": [
    "It is obvious that b_star_new < b_star as long as all the parameters are positive (and they are). This means that it is no longer optimal for the principal to give the agent a commission rate equal to 1."
   ]
  },
  {
   "cell_type": "markdown",
   "metadata": {},
   "source": [
    "**Step 3** Find the optimal contract: solve the system of equations to get $b^*$, $s^*$, $e^*$ "
   ]
  },
  {
   "cell_type": "code",
   "execution_count": 19,
   "metadata": {},
   "outputs": [
    {
     "data": {
      "image/png": "[encoded data removed]",
      "text/latex": [
       "$$\\frac{1}{c \\left(c r \\sigma^{2} + 1\\right)}$$"
      ],
      "text/plain": [
       "      1       \n",
       "──────────────\n",
       "c⋅(c⋅r⋅σ² + 1)"
      ]
     },
     "execution_count": 19,
     "metadata": {},
     "output_type": "execute_result"
    }
   ],
   "source": [
    "e_star_new = e_star_new[0].subs(b, b_star_new[0])\n",
    "e_star_new"
   ]
  },
  {
   "cell_type": "markdown",
   "metadata": {},
   "source": [
    "Effort is lower in this model than in the basic model."
   ]
  },
  {
   "cell_type": "code",
   "execution_count": 20,
   "metadata": {},
   "outputs": [
    {
     "data": {
      "image/png": "[encoded data removed]",
      "text/latex": [
       "$$\\frac{c r \\sigma^{2} - 1}{2 c \\left(c r \\sigma^{2} + 1\\right)^{2}}$$"
      ],
      "text/plain": [
       "    c⋅r⋅σ² - 1   \n",
       "─────────────────\n",
       "                2\n",
       "2⋅c⋅(c⋅r⋅σ² + 1) "
      ]
     },
     "execution_count": 20,
     "metadata": {},
     "output_type": "execute_result"
    }
   ],
   "source": [
    "s_star_new = s_star_new[0].subs(b, b_star_new[0])\n",
    "s_star_new"
   ]
  },
  {
   "cell_type": "markdown",
   "metadata": {},
   "source": [
    "# Comparison of the Models"
   ]
  },
  {
   "cell_type": "markdown",
   "metadata": {},
   "source": [
    "This section will compare the utility and profits in the two versions of the model."
   ]
  },
  {
   "cell_type": "code",
   "execution_count": 21,
   "metadata": {},
   "outputs": [],
   "source": [
    "# make python function out of the analytical results\n",
    "e_func_new = sm.lambdify((c, r, sigma), e_star_new)\n",
    "s_func_new = sm.lambdify((c, r, sigma), s_star_new)\n",
    "b_func_new = sm.lambdify((c, r, sigma), b_star_new[0])\n",
    "u_func_new = sm.lambdify((c, r, sigma, e, s, b), u_new)\n",
    "# pi-function is the same as in the basic model"
   ]
  },
  {
   "cell_type": "code",
   "execution_count": 22,
   "metadata": {},
   "outputs": [],
   "source": [
    "# a. set the new parameters to arbitrary numbers\n",
    "r = 0.25\n",
    "sigma = 2\n",
    "\n",
    "# b. create empty list for each parameter\n",
    "e_vec_new = []\n",
    "s_vec_new = []\n",
    "b_vec_new = []\n",
    "u_vec_new = []\n",
    "pi_vec_new = []\n",
    "\n",
    "# c. fill in the list with the functions found in section 5\n",
    "for i in range(len(c_vec)):\n",
    "    \n",
    "    # i. optimal contract\n",
    "    e_vec_new.append(e_func_new(c_vec[i], r, sigma))\n",
    "    s_vec_new.append(s_func_new(c_vec[i], r, sigma))\n",
    "    b_vec_new.append(b_func_new(c_vec[i], r, sigma))\n",
    "    \n",
    "    # ii. utility and profit\n",
    "    u_vec_new.append(u_func_new(c_vec[i], r, sigma, e_vec_new[i], s_vec_new[i], b_vec_new[i]))\n",
    "    pi_vec_new.append(pi_func(e_vec_new[i], s_vec_new[i], b_vec_new[i]))"
   ]
  },
  {
   "cell_type": "markdown",
   "metadata": {},
   "source": [
    "I create a figure with two subplots that compare the utility and profits in the two versions of the model."
   ]
  },
  {
   "cell_type": "code",
   "execution_count": 23,
   "metadata": {},
   "outputs": [
    {
     "data": {
      "text/plain": [
       "<Figure size 432x288 with 0 Axes>"
      ]
     },
     "metadata": {},
     "output_type": "display_data"
    },
    {
     "data": {
      "image/png": "[encoded data removed]",
      "text/plain": [
       "<Figure size 432x288 with 2 Axes>"
      ]
     },
     "metadata": {
      "needs_background": "light"
     },
     "output_type": "display_data"
    }
   ],
   "source": [
    "# a. plotting\n",
    "fig = plt.figure()\n",
    "fig, ax = plt.subplots(2, 1)\n",
    "\n",
    "# b. upper graph with utility\n",
    "ax[0].plot(c_vec, u_vec, label = '$u$')\n",
    "ax[0].plot(c_vec, u_vec_new, label = '$u_n$', linestyle = 'dashed')\n",
    "ax[0].legend(loc = 'upper right')\n",
    "ax[0].set_ylim(-1, 1) # set y-axis to not confuse with the small variations in zero (python is not exactly 0) \n",
    "ax[0].set_title('Figure 2')\n",
    "\n",
    "# c. lower graph with profits\n",
    "ax[1].plot(c_vec, pi_vec, label = '$\\pi$')\n",
    "ax[1].plot(c_vec, pi_vec_new, label = '$\\pi_n$', linestyle = 'dashed')\n",
    "ax[1].legend(loc = 'upper right')\n",
    "ax[1].set_xlabel('c')\n",
    "\n",
    "# d. show\n",
    "fig.tight_layout()\n",
    "plt.show()"
   ]
  },
  {
   "cell_type": "markdown",
   "metadata": {},
   "source": [
    "From figure 2 we see that A still gets an utility equal to his outside option independently of c. The lower plot shows that the profits is lower in the extended model than in the basic model. This happens when A is being risk-averse it is optimal for P to bear some of the risk of the stochastic term of the output $(b < 1)$. Also P needs to compensate A for the risk he puts on A. It would never be optimal for P to take all the risk himself as it would also remove all incentives to excert effort for A. Therefore we can say that there is a trade-off for P between insurance and incentive."
   ]
  },
  {
   "cell_type": "markdown",
   "metadata": {},
   "source": [
    "# Conclusion"
   ]
  },
  {
   "cell_type": "markdown",
   "metadata": {},
   "source": [
    "In this notebook we have seen a basic principal-agent model solved analytically and numerically. Also the model was extended with a risk-averse agent which affected the result in a way so the principal got less profit as he then needed to insure the agent against risk. The agent got an utility equal to his outside option in both models. At this point I need to emphasize that this is a very stylized model."
   ]
  }
 ],
 "metadata": {
  "kernelspec": {
   "display_name": "Python 3",
   "language": "python",
   "name": "python3"
  },
  "language_info": {
   "codemirror_mode": {
    "name": "ipython",
    "version": 3
   },
   "file_extension": ".py",
   "mimetype": "text/x-python",
   "name": "python",
   "nbconvert_exporter": "python",
   "pygments_lexer": "ipython3",
   "version": "3.7.1"
  }
 },
 "nbformat": 4,
 "nbformat_minor": 2
}
