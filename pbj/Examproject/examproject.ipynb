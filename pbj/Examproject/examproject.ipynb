{
 "cells": [
  {
   "cell_type": "code",
   "execution_count": 1,
   "metadata": {},
   "outputs": [],
   "source": [
    "import numpy as np\n",
    "from scipy import optimize\n",
    "from scipy import interpolate\n",
    "import matplotlib as mpl\n",
    "import matplotlib.pyplot as plt\n",
    "import sympy as sm\n",
    "sm.init_printing(use_unicode=True) # for pretty printing"
   ]
  },
  {
   "cell_type": "markdown",
   "metadata": {},
   "source": [
    "# 1. Human capital accumulation"
   ]
  },
  {
   "cell_type": "markdown",
   "metadata": {},
   "source": [
    "Consider a worker living in **two periods**, $t \\in \\{1,2\\}$. \n",
    "\n",
    "In each period she decides whether to **work ($l_t = 1$) or not ($l_t = 0$)**. \n",
    "\n",
    "She can *not* borrow or save and thus **consumes all of her income** in each period. "
   ]
  },
  {
   "cell_type": "markdown",
   "metadata": {},
   "source": [
    "If she **works** her **consumption** becomes:\n",
    "\n",
    "$$c_t = w h_t l_t\\,\\,\\text{if}\\,\\,l_t=1$$\n",
    "\n",
    "where $w$ is **the wage rate** and $h_t$ is her **human capital**. \n",
    "\n",
    "If she does **not work** her consumption becomes:\n",
    "\n",
    "$$c_t = b\\,\\,\\text{if}\\,\\,l_t=0$$\n",
    "\n",
    "where $b$ is the **unemployment benefits**."
   ]
  },
  {
   "cell_type": "markdown",
   "metadata": {},
   "source": [
    "Her **utility of consumption** is: \n",
    "\n",
    "$$ \\frac{c_t^{1-\\rho}}{1-\\rho} $$\n",
    "\n",
    "Her **disutility of working** is:\n",
    "\n",
    "$$ \\gamma l_t $$"
   ]
  },
  {
   "cell_type": "markdown",
   "metadata": {},
   "source": [
    "From period 1 to period 2, she **accumulates human capital** according to:\n",
    "\n",
    "$$ h_2 = h_1 + l_1 + \n",
    "\\begin{cases}\n",
    "0 & \\text{with prob. }0.5 \\\\\n",
    "\\Delta & \\text{with prob. }0.5 \n",
    "\\end{cases} \\\\\n",
    "$$\n",
    "\n",
    "where $\\Delta$ is a **stochastic experience gain**."
   ]
  },
  {
   "cell_type": "markdown",
   "metadata": {},
   "source": [
    "In the **second period** the worker thus solves:\n",
    "\n",
    "$$\n",
    "\\begin{eqnarray*}\n",
    "v_{2}(h_{2}) & = &\\max_{l_{2}} \\frac{c_2^{1-\\rho}}{1-\\rho} - \\gamma l_2\n",
    "\\\\ & \\text{s.t.} & \\\\\n",
    "c_{2}& = & w h_2 l_2 \\\\\n",
    "l_{2}& \\in &\\{0,1\\}\n",
    "\\end{eqnarray*}\n",
    "$$"
   ]
  },
  {
   "cell_type": "markdown",
   "metadata": {},
   "source": [
    "In the **first period** the worker thus solves:\n",
    "\n",
    "$$\n",
    "\\begin{eqnarray*}\n",
    "v_{1}(h_{1}) &=& \\max_{l_{1}} \\frac{c_1^{1-\\rho}}{1-\\rho} - \\gamma l_1 + \\beta\\mathbb{E}_{1}\\left[v_2(h_2)\\right]\n",
    "\\\\ & \\text{s.t.} & \\\\\n",
    "c_1 &=& w h_1 l_1 \\\\\n",
    "h_2 &=& h_1 + l_1 + \\begin{cases}\n",
    "0 & \\text{with prob. }0.5\\\\\n",
    "\\Delta & \\text{with prob. }0.5 \n",
    "\\end{cases}\\\\\n",
    "l_{1} &\\in& \\{0,1\\}\\\\\n",
    "\\end{eqnarray*}\n",
    "$$\n",
    "\n",
    "where $\\beta$ is the **discount factor** and $\\mathbb{E}_{1}\\left[v_2(h_2)\\right]$ is the **expected value of living in period two**."
   ]
  },
  {
   "cell_type": "markdown",
   "metadata": {},
   "source": [
    "The **parameters** of the model are:"
   ]
  },
  {
   "cell_type": "code",
   "execution_count": 2,
   "metadata": {},
   "outputs": [],
   "source": [
    "rho = 2\n",
    "beta = 0.96\n",
    "gamma = 0.1\n",
    "w = 2\n",
    "b = 1\n",
    "Delta = 0.1"
   ]
  },
  {
   "cell_type": "markdown",
   "metadata": {},
   "source": [
    "The **relevant levels of human capital** are:"
   ]
  },
  {
   "cell_type": "code",
   "execution_count": 3,
   "metadata": {},
   "outputs": [],
   "source": [
    "h_vec = np.linspace(0.1,1.5,100)"
   ]
  },
  {
   "cell_type": "markdown",
   "metadata": {},
   "source": [
    "**Question 1:** Solve the model in period 2 and illustrate the solution (including labor supply as a function of human capital). \n",
    "\n",
    "**Question 2:** Solve the model in period 1 and illustrate the solution (including labor supply as a function of human capital). \n",
    "\n",
    "**Question 3:** Will the worker never work if her potential wage income is lower than the unemployment benefits she can get? Explain and illustrate why or why not."
   ]
  },
  {
   "cell_type": "markdown",
   "metadata": {},
   "source": [
    "**Question 1:** Solve the model in period 2 and illustrate the solution (including labor supply as a function of human capital)."
   ]
  },
  {
   "cell_type": "markdown",
   "metadata": {},
   "source": [
    "**Method:** To solve the questions I firstly compute some relevant functions. I believe there is a mistake in the optimization problems and I will work with the problems with $c_t = wh_tl_t + b(1-l_t)$. To solve the model in period 2 I compare the utility in period 2 for l2 = 0 and l2 = 1 for each value of human capital. The l2 that maximizes the utility is saved in a vector."
   ]
  },
  {
   "cell_type": "code",
   "execution_count": 4,
   "metadata": {},
   "outputs": [],
   "source": [
    "# create basic functions\n",
    "\n",
    "# utility\n",
    "def utility(c, rho):\n",
    "    return c**(1 - rho)/(1 - rho)\n",
    "\n",
    "# disutility\n",
    "def disutility(gamma, l):\n",
    "    return gamma*l\n",
    "\n",
    "# consumption\n",
    "def cons(w, h, b, l):\n",
    "    return w*h*l + b*(1 - l)\n",
    "\n",
    "# utility in period 2\n",
    "def v2(l2, w, b, h2, rho, gamma):\n",
    "    return utility(cons(w, h2, b, l2), rho) - disutility(gamma, l2)\n",
    "\n",
    "# utility in period 1\n",
    "def v1(l1, w, b, rho, gamma, h1, Delta, beta, v2_interp):\n",
    "    \"\"\"   \n",
    "    returns the (net)utility in period 1\n",
    "    \n",
    "    parameters: see model description\n",
    "    \n",
    "    \"\"\"\n",
    "    # a. v2 if 0 extra human capital\n",
    "    h2_low = h1 + l1\n",
    "    v2_low = v2_interp([h2_low])[0]\n",
    "    \n",
    "    # b. v2 if Delta extra human capital\n",
    "    h2_high = h1 + l1 + Delta\n",
    "    v2_high = v2_interp([h2_high])[0]\n",
    "    \n",
    "    # c. expected v2 value\n",
    "    v2 = 0.5*v2_low + 0.5*v2_high\n",
    "    \n",
    "    # d. total net utility\n",
    "    return utility(cons(w, h1, b, l1), rho) - disutility(gamma, l1) + beta*v2"
   ]
  },
  {
   "cell_type": "code",
   "execution_count": 5,
   "metadata": {},
   "outputs": [
    {
     "data": {
      "text/plain": [
       "Text(0.5, 1.0, 'labor supply in period 2')"
      ]
     },
     "execution_count": 5,
     "metadata": {},
     "output_type": "execute_result"
    },
    {
     "data": {
      "image/png": "[encoded data removed]",
      "text/plain": [
       "<Figure size 432x288 with 1 Axes>"
      ]
     },
     "metadata": {
      "needs_background": "light"
     },
     "output_type": "display_data"
    }
   ],
   "source": [
    "# a. create function to solve the problem in period 2\n",
    "def solve_period_2(rho, w, b, h_vec, gamma, Delta):\n",
    "    \"\"\"   \n",
    "    returns the labor supply and utility in period 2 (v2, l2) for different levels of human capital\n",
    "    \n",
    "    parameters: see model description\n",
    "    \"\"\"\n",
    "    # i. define vectors\n",
    "    v2_vec = np.empty(100)\n",
    "    l2_vec = np.empty(100, dtype=int)\n",
    "\n",
    "    # ii. solve for each h in h_vec\n",
    "    for i,h in enumerate(h_vec):\n",
    "       \n",
    "        # 1. compare v2 for l2 = 0 and l2 = 1 and return the l2 that maximizes v2\n",
    "        if (v2(0, w, b, h, rho, gamma) > v2(1, w, b, h, rho, gamma)) == True:\n",
    "            l2_vec[i] = 0\n",
    "        else:\n",
    "            l2_vec[i] = 1\n",
    "        \n",
    "        # 2. append the v2 value from the optimized l2 for each h\n",
    "        v2_vec[i] = v2(l2_vec[i], w, b, h, rho, gamma)\n",
    "               \n",
    "    return v2_vec, l2_vec\n",
    "\n",
    "# b. use the function to solve the model in period 2\n",
    "v2_vec, l2_vec = solve_period_2(rho, w, b, h_vec, gamma, Delta)\n",
    "\n",
    "# c. plot period 2 solution\n",
    "fig = plt.figure()\n",
    "ax = fig.add_subplot(1, 1, 1)\n",
    "ax.plot(h_vec, l2_vec)\n",
    "\n",
    "# d. set grids\n",
    "ax.grid()\n",
    "    \n",
    "# e. set labels\n",
    "ax.set_ylabel('labor supply')\n",
    "ax.set_xlabel('human capital')\n",
    "\n",
    "# f. set title\n",
    "ax.set_title('labor supply in period 2')"
   ]
  },
  {
   "cell_type": "markdown",
   "metadata": {},
   "source": [
    "**Answer:** The labor supply in period 2 is positive as long as the level of human capital is high enough. With these parameters it is positive for human capital larger than around 0.5. The higher human capital makes it more profitable to work according to the consumption function."
   ]
  },
  {
   "cell_type": "markdown",
   "metadata": {},
   "source": [
    "**Question 2:** Solve the model in period 1 and illustrate the solution (including labor supply as a function of human capital). "
   ]
  },
  {
   "cell_type": "markdown",
   "metadata": {},
   "source": [
    "**Method:** The procedure is much the same as in period 2 but firstly the utility of period 2 needs to be interpolated as it should be taking into account in the period 1 optimization. The accumulation of human capital from period 1 to 2 is modelled in the utility function of period 1 where the two cases of extra stochastic gain is weighted with the probabilities."
   ]
  },
  {
   "cell_type": "code",
   "execution_count": 6,
   "metadata": {},
   "outputs": [
    {
     "data": {
      "text/plain": [
       "Text(0.5, 1.0, 'labor supply in period 1')"
      ]
     },
     "execution_count": 6,
     "metadata": {},
     "output_type": "execute_result"
    },
    {
     "data": {
      "image/png": "[encoded data removed]",
      "text/plain": [
       "<Figure size 432x288 with 1 Axes>"
      ]
     },
     "metadata": {
      "needs_background": "light"
     },
     "output_type": "display_data"
    }
   ],
   "source": [
    "# a. interpolate utility from period 2\n",
    "v2_interp = interpolate.RegularGridInterpolator((h_vec,), v2_vec,\n",
    "                                                    bounds_error=False,fill_value=None)\n",
    "\n",
    "# b. create functionto solve problem in period 1\n",
    "def solve_period_1(w, b, rho, gamma, h_vec, Delta, beta, v2_interp):\n",
    "    \"\"\"   \n",
    "    returns the labor supply and utility in period 1 (v1, l1) for different levels of human capital\n",
    "    \n",
    "    parameters: see model description\n",
    "    \"\"\"\n",
    "    # i. define grids\n",
    "    v1_vec = np.empty(100)\n",
    "    l1_vec = np.empty(100, dtype=int)\n",
    "    \n",
    "    # ii. solve for each h in grid\n",
    "    for i,h in enumerate(h_vec):\n",
    "       \n",
    "        # 1. compare v1 for l1 = 0 and l1 = 1 and return the l1 that maximizes v1\n",
    "        if (v1(0, w, b, rho, gamma, h, Delta, beta, v2_interp) \n",
    "            > v1(1, w, b, rho, gamma, h, Delta, beta, v2_interp)) == True:\n",
    "            l1_vec[i] = 0\n",
    "        else:\n",
    "            l1_vec[i] = 1\n",
    "        \n",
    "        # 2. append the v1 value from the optimized l1\n",
    "        v1_vec[i] = v1(l1_vec[i], w, b, rho, gamma, h, Delta, beta, v2_interp)\n",
    "               \n",
    "    return v1_vec, l1_vec\n",
    "\n",
    "# c. use the function to solve the model in period 1\n",
    "v1_vec, l1_vec = solve_period_1(w, b, rho, gamma, h_vec, Delta, beta, v2_interp)\n",
    "\n",
    "# d. illustrate period 1 solution\n",
    "fig = plt.figure()\n",
    "ax = fig.add_subplot(1, 1, 1)\n",
    "ax.plot(h_vec, l1_vec)\n",
    "\n",
    "# e. adjust plot\n",
    "ax.grid()\n",
    "ax.set_ylabel('labor supply')\n",
    "ax.set_xlabel('human capital')\n",
    "ax.set_title('labor supply in period 1')"
   ]
  },
  {
   "cell_type": "markdown",
   "metadata": {},
   "source": [
    "**Answer:** For period 1 the labor supply is positive for a lower level of human capital relative to period 2. This happens as there is a potential experience gain of working in period 1 which makes it more attractive to work."
   ]
  },
  {
   "cell_type": "markdown",
   "metadata": {},
   "source": [
    "**Question 3:** Will the worker never work if her potential wage income is lower than the unemployment benefits she can get? Explain and illustrate why or why not."
   ]
  },
  {
   "cell_type": "markdown",
   "metadata": {},
   "source": [
    "**Method:** As the labor suppy is higher in period 1 relative to period 2 for the same parameters, I examine only the labor suppy in period 1. If she never wants to work for $w < b$ in period 1, she won't do it in period 2 either. Also I only look at the highest value of human capital, as if she never want to work for that level of human capital, she never wants to at all. \n",
    "I define a vector of benefits >= w and examine if the labor supply is positive for some of the benefits larger than w. "
   ]
  },
  {
   "cell_type": "code",
   "execution_count": 7,
   "metadata": {},
   "outputs": [
    {
     "data": {
      "text/plain": [
       "Text(0.5, 1.0, 'labor supply in period 1 for different levels of benefits with h=1.5 and w=2')"
      ]
     },
     "execution_count": 7,
     "metadata": {},
     "output_type": "execute_result"
    },
    {
     "data": {
      "image/png": "[encoded data removed]",
      "text/plain": [
       "<Figure size 432x288 with 1 Axes>"
      ]
     },
     "metadata": {
      "needs_background": "light"
     },
     "output_type": "display_data"
    }
   ],
   "source": [
    "# a. define a vector of b where b >= w = 2\n",
    "b_vec = np.linspace(2, 10, 20)\n",
    "\n",
    "# b. define vector \n",
    "l1_vec_q3 = np.empty(len(b_vec), dtype = int)\n",
    "\n",
    "# c. compare v1 for l1 = 0 and l1 = 1 and return the l1 that maximizes v1\n",
    "for i in range(len(b_vec)):\n",
    "    if (v1(0, w, b_vec[i], rho, gamma, h_vec[99], Delta, beta, v2_interp) \n",
    "        > v1(1, w, b_vec[i], rho, gamma, h_vec[99], Delta, beta, v2_interp)) == True:\n",
    "        l1_vec_q3[i] = 0\n",
    "    else:\n",
    "        l1_vec_q3[i] = 1\n",
    "\n",
    "# d. illustrate period 1 result\n",
    "fig = plt.figure()\n",
    "ax = fig.add_subplot(1, 1, 1)\n",
    "ax.plot(b_vec, l1_vec_q3)\n",
    "\n",
    "# e. adjust plot\n",
    "ax.grid()\n",
    "ax.set_ylabel('labor supply')\n",
    "ax.set_xlabel('benefits, b')\n",
    "ax.set_title('labor supply in period 1 for different levels of benefits with h=1.5 and w=2')"
   ]
  },
  {
   "cell_type": "markdown",
   "metadata": {},
   "source": [
    "**Answer:** From this we see that, there are parameters for which she will work although the benefits are higher than the wage $(b > w)$. For this to happen it is necessary that the level of human capital is high enough as it boosts the consumption when working. We can only conclude that it can be optimal for her to work in period 1, this doesn't imply she wants to work in period 2 as well."
   ]
  },
  {
   "cell_type": "markdown",
   "metadata": {},
   "source": [
    "# 2. AS-AD model"
   ]
  },
  {
   "cell_type": "markdown",
   "metadata": {},
   "source": [
    "Consider the following **AS-AD model**. The **goods market equilibrium** is given by\n",
    "\n",
    "$$ y_{t} = -\\alpha r_{t} + v_{t} $$\n",
    "\n",
    "where $y_{t}$ is the **output gap**, $r_{t}$ is the **ex ante real interest** and $v_{t}$ is a **demand disturbance**. "
   ]
  },
  {
   "cell_type": "markdown",
   "metadata": {},
   "source": [
    "The central bank's **Taylor rule** is\n",
    "\n",
    "$$ i_{t} = \\pi_{t+1}^{e} + h \\pi_{t} + b y_{t}$$\n",
    "\n",
    "where $i_{t}$ is the **nominal interest rate**, $\\pi_{t}$ is the **inflation gap**, and $\\pi_{t+1}^{e}$ is the **expected inflation gap**. "
   ]
  },
  {
   "cell_type": "markdown",
   "metadata": {},
   "source": [
    "The **ex ante real interest rate** is given by \n",
    "\n",
    "$$ r_{t} = i_{t} - \\pi_{t+1}^{e} $$"
   ]
  },
  {
   "cell_type": "markdown",
   "metadata": {},
   "source": [
    "Together, the above implies that the **AD-curve** is\n",
    "\n",
    "$$ \\pi_{t} = \\frac{1}{h\\alpha}\\left[v_{t} - (1+b\\alpha)y_{t}\\right]$$"
   ]
  },
  {
   "cell_type": "markdown",
   "metadata": {},
   "source": [
    "Further, assume that the **short-run supply curve (SRAS)** is given by\n",
    "\n",
    "$$ \\pi_{t} = \\pi_{t}^{e} + \\gamma y_{t} + s_{t}$$\n",
    "\n",
    "where $s_t$ is a **supply disturbance**."
   ]
  },
  {
   "cell_type": "markdown",
   "metadata": {},
   "source": [
    "**Inflation expectations are adaptive** and given by\n",
    "\n",
    "$$ \\pi_{t}^{e} = \\phi\\pi_{t-1}^{e} + (1-\\phi)\\pi_{t-1}$$"
   ]
  },
  {
   "cell_type": "markdown",
   "metadata": {},
   "source": [
    "Together, this implies that the **SRAS-curve** can also be written as\n",
    "\n",
    "$$ \\pi_{t} = \\pi_{t-1} + \\gamma y_{t} - \\phi\\gamma y_{t-1} + s_{t} - \\phi s_{t-1} $$"
   ]
  },
  {
   "cell_type": "markdown",
   "metadata": {},
   "source": [
    "The **parameters** of the model are:"
   ]
  },
  {
   "cell_type": "code",
   "execution_count": 8,
   "metadata": {},
   "outputs": [],
   "source": [
    "par = {}\n",
    "\n",
    "par['alpha'] = 5.76\n",
    "par['h'] = 0.5\n",
    "par['b'] = 0.5\n",
    "par['phi'] = 0\n",
    "par['gamma'] = 0.075"
   ]
  },
  {
   "cell_type": "markdown",
   "metadata": {},
   "source": [
    "**Question 1:** Use the ``sympy`` module to solve for the equilibrium values of output, $y_t$, and inflation, $\\pi_t$, (where AD = SRAS) given the parameters ($\\alpha$, $h$, $b$, $\\alpha$, $\\gamma$) and $y_{t-1}$ , $\\pi_{t-1}$, $v_t$, $s_t$, and $s_{t-1}$.\n",
    "\n",
    "**Question 2:** Find and illustrate the equilibrium when $y_{t-1} = \\pi_{t-1} = v_t = s_t = s_{t-1} = 0$. Illustrate how the equilibrium changes when instead $v_t = 0.1$."
   ]
  },
  {
   "cell_type": "markdown",
   "metadata": {},
   "source": [
    "**Persistent disturbances:** Now, additionaly, assume that both the demand and the supply disturbances are AR(1) processes\n",
    "\n",
    "$$ v_{t} = \\delta v_{t-1} + x_{t} $$\n",
    "$$ s_{t} = \\omega s_{t-1} + c_{t} $$\n",
    "\n",
    "where $x_{t}$ is a **demand shock**, and $c_t$ is a **supply shock**. The **autoregressive parameters** are:"
   ]
  },
  {
   "cell_type": "code",
   "execution_count": 9,
   "metadata": {},
   "outputs": [],
   "source": [
    "par['delta'] = 0.80\n",
    "par['omega'] = 0.15"
   ]
  },
  {
   "cell_type": "markdown",
   "metadata": {},
   "source": [
    "**Question 3:** Starting from $y_{-1} = \\pi_{-1} = s_{-1} = 0$, how does the economy evolve for $x_0 = 0.1$, $x_t = 0, \\forall t > 0$ and $c_t = 0, \\forall t \\geq 0$?"
   ]
  },
  {
   "cell_type": "markdown",
   "metadata": {},
   "source": [
    "**Stochastic shocks:** Now, additionally, assume that $x_t$ and $c_t$ are stochastic and normally distributed\n",
    "\n",
    "$$ x_{t}\\sim\\mathcal{N}(0,\\sigma_{x}^{2}) $$\n",
    "$$ c_{t}\\sim\\mathcal{N}(0,\\sigma_{c}^{2}) $$\n",
    "\n",
    "The **standard deviations of the shocks** are:"
   ]
  },
  {
   "cell_type": "code",
   "execution_count": 10,
   "metadata": {},
   "outputs": [],
   "source": [
    "par['sigma_x'] = 3.492\n",
    "par['sigma_c'] = 0.2"
   ]
  },
  {
   "cell_type": "markdown",
   "metadata": {},
   "source": [
    "**Question 4:** Simulate the AS-AD model for 1,000 periods. Calculate the following five statistics:\n",
    "\n",
    "1. Variance of $y_t$, $var(y_t)$\n",
    "2. Variance of $\\pi_t$, $var(\\pi_t)$\n",
    "3. Correlation between $y_t$ and $\\pi_t$, $corr(y_t,\\pi_t)$\n",
    "4. Auto-correlation between $y_t$ and $y_{t-1}$, $corr(y_t,y_{t-1})$\n",
    "5. Auto-correlation between $\\pi_t$ and $\\pi_{t-1}$, $corr(\\pi_t,\\pi_{t-1})$"
   ]
  },
  {
   "cell_type": "markdown",
   "metadata": {},
   "source": [
    "**Question 5:** Plot how the correlation between $y_t$ and $\\pi_t$ changes with $\\phi$. Use a numerical optimizer or root finder to choose $\\phi\\in(0,1)$ such that the simulated correlation between $y_t$ and $\\pi_t$ comes close to 0.31. "
   ]
  },
  {
   "cell_type": "markdown",
   "metadata": {},
   "source": [
    "**Quesiton 6:** Use a numerical optimizer to choose $\\sigma_x>0$, $\\sigma_c>0$ and $\\phi\\in(0,1)$ to make the simulated statistics as close as possible to US business cycle data where:\n",
    "\n",
    "1. $var(y_t) = 1.64$\n",
    "2. $var(\\pi_t) = 0.21$\n",
    "3. $corr(y_t,\\pi_t) = 0.31$\n",
    "4. $corr(y_t,y_{t-1}) = 0.84$\n",
    "5. $corr(\\pi_t,\\pi_{t-1}) = 0.48$"
   ]
  },
  {
   "cell_type": "markdown",
   "metadata": {},
   "source": [
    "**Question 1:** Use the ``sympy`` module to solve for the equilibrium values of output, $y_t$, and inflation, $\\pi_t$, (where AD = SRAS) given the parameters ($\\alpha$, $h$, $b$, $\\alpha$, $\\gamma$) and $y_{t-1}$ , $\\pi_{t-1}$, $v_t$, $s_t$, and $s_{t-1}$. \n",
    "\n",
    "**Method:** I think it is a mistake that we should look at the parameters ($\\alpha$, $h$, $b$, $\\alpha$, $\\gamma$) and I assume it should have said ($\\alpha$, $h$, $b$, $\\phi$, $\\gamma$).\n",
    "\n",
    "First all the symbols is defined as sympy-variables. The relevant functions are defined and solved as an equation system of 2 equations with 2 unknowns by the sm.solve-procedure. The solution is showed both with algebra and with the given parameters."
   ]
  },
  {
   "cell_type": "code",
   "execution_count": 11,
   "metadata": {},
   "outputs": [
    {
     "data": {
      "image/png": "[encoded data removed]",
      "text/latex": [
       "$$\\left \\{ \\pi_{t} : \\frac{\\gamma v_{t} - \\left(\\alpha b + 1\\right) \\left(\\gamma \\phi y_{t-1} + \\phi s_{t-1} - \\pi_{t-1} - s_{t}\\right)}{\\alpha b + \\alpha \\gamma h + 1}, \\quad y_{t} : \\frac{\\alpha \\gamma h \\phi y_{t-1} + \\alpha h \\phi s_{t-1} - \\alpha h \\pi_{t-1} - \\alpha h s_{t} + v_{t}}{\\alpha b + \\alpha \\gamma h + 1}\\right \\}$$"
      ],
      "text/plain": [
       "⎧    γ⋅vₜ - (α⋅b + 1)⋅(γ⋅φ⋅yₜ₋₁ + φ⋅sₜ₋₁ - πₜ₋₁ - sₜ)      α⋅γ⋅h⋅φ⋅yₜ₋₁ + α⋅h⋅\n",
       "⎨πₜ: ────────────────────────────────────────────────, yₜ: ───────────────────\n",
       "⎩                    α⋅b + α⋅γ⋅h + 1                                        α⋅\n",
       "\n",
       "φ⋅sₜ₋₁ - α⋅h⋅πₜ₋₁ - α⋅h⋅sₜ + vₜ⎫\n",
       "───────────────────────────────⎬\n",
       "b + α⋅γ⋅h + 1                  ⎭"
      ]
     },
     "execution_count": 11,
     "metadata": {},
     "output_type": "execute_result"
    }
   ],
   "source": [
    "# a. define symbols\n",
    "alpha = sm.symbols('alpha')\n",
    "h = sm.symbols('h')\n",
    "b = sm.symbols('b')\n",
    "phi = sm.symbols('phi')\n",
    "gamma = sm.symbols('gamma')\n",
    "y_t = sm.symbols('y_t')\n",
    "pi_t = sm.symbols('pi_t')\n",
    "y_t1 = sm.symbols('y_t-1')\n",
    "pi_t1 = sm.symbols('pi_t-1')\n",
    "v_t = sm.symbols('v_t')\n",
    "s_t = sm.symbols('s_t')\n",
    "s_t1 = sm.symbols('s_t-1')\n",
    "\n",
    "# b. define AD-curve\n",
    "AD = sm.Eq(pi_t, (v_t - (1 + b*alpha)*y_t)/(h*alpha))\n",
    "\n",
    "# c. define SRAS-curve\n",
    "SRAS = sm.Eq(pi_t, pi_t1 + gamma*y_t - phi*gamma*y_t1 + s_t - phi*s_t1)\n",
    "\n",
    "# d. solve and split solution into lists for later use\n",
    "sol = sm.solve([AD, SRAS], [y_t, pi_t])\n",
    "pi_sol = sol[pi_t]\n",
    "y_sol = sol[y_t]\n",
    "\n",
    "# e. make solutions to python functions for later use\n",
    "pi_func = sm.lambdify((pi_t1, y_t1, v_t, s_t, s_t1, alpha, h, b, phi, gamma), pi_sol)\n",
    "y_func = sm.lambdify((pi_t1, y_t1, v_t, s_t, s_t1, alpha, h, b, phi, gamma), y_sol)\n",
    "\n",
    "# f. print result\n",
    "sol"
   ]
  },
  {
   "cell_type": "markdown",
   "metadata": {},
   "source": [
    "**Answer:** The expressions for $\\pi_t$ and $y_t$ are both dependent of $y_{t-1}$ , $\\pi_{t-1}$, $v_t$, $s_t$, and $s_{t-1}$ and all the parameters.\n",
    "\n",
    "To get the solution with the specified parameter values see the next cell."
   ]
  },
  {
   "cell_type": "code",
   "execution_count": 12,
   "metadata": {},
   "outputs": [
    {
     "data": {
      "image/png": "[encoded data removed]",
      "text/latex": [
       "$$\\left \\{ \\pi_{t} : 0.947265625 \\pi_{t-1} + 0.947265625 s_{t} + 0.018310546875 v_{t}, \\quad y_{t} : - 0.703125 \\pi_{t-1} - 0.703125 s_{t} + 0.244140625 v_{t}\\right \\}$$"
      ],
      "text/plain": [
       "{πₜ: 0.947265625⋅πₜ₋₁ + 0.947265625⋅sₜ + 0.018310546875⋅vₜ, yₜ: -0.703125⋅πₜ₋₁\n",
       " - 0.703125⋅sₜ + 0.244140625⋅vₜ}"
      ]
     },
     "execution_count": 12,
     "metadata": {},
     "output_type": "execute_result"
    }
   ],
   "source": [
    "# insert parameters\n",
    "alpha = par['alpha']\n",
    "h = par['h']\n",
    "b = par['b']\n",
    "phi = par['phi']\n",
    "gamma = par['gamma']\n",
    "\n",
    "# define the curves in the same way again\n",
    "AD2 = sm.Eq(pi_t, (v_t - (1 + b*alpha)*y_t)/(h*alpha))\n",
    "SRAS2 = sm.Eq(pi_t, pi_t1 + gamma*y_t - phi*gamma*y_t1 + s_t - phi*s_t1)\n",
    "\n",
    "# solve in the same way again and show the result\n",
    "sol2 = sm.solve([AD2, SRAS2], [y_t, pi_t])\n",
    "sol2"
   ]
  },
  {
   "cell_type": "markdown",
   "metadata": {},
   "source": [
    "**Answer:** It is seen that when $\\phi$ = 0 both expressions simplify and become independent of $y_{t-1}$ and $s_{t-1}$."
   ]
  },
  {
   "cell_type": "markdown",
   "metadata": {},
   "source": [
    "**Question 2:** Find and illustrate the equilibrium when $y_{t-1} = \\pi_{t-1} = v_t = s_t = s_{t-1} = 0$. Illustrate how the equilibrium changes when instead $v_t = 0.1$."
   ]
  },
  {
   "cell_type": "markdown",
   "metadata": {},
   "source": [
    "**Method:** In question 1 I found expressions for $\\pi_t$ and $y_t$ in equilibrium. These were turned into python functions by the lambdify-procedure. From that the desired values of variables are inserted in the functions."
   ]
  },
  {
   "cell_type": "code",
   "execution_count": 13,
   "metadata": {},
   "outputs": [
    {
     "data": {
      "text/plain": [
       "Text(0.5, 1.0, 'equilibrium for $y_{t-1} = \\\\pi_{t-1} = s_t = s_{t-1} = 0$ for different values of v_t')"
      ]
     },
     "execution_count": 13,
     "metadata": {},
     "output_type": "execute_result"
    },
    {
     "data": {
      "image/png": "[encoded data removed]",
      "text/plain": [
       "<Figure size 432x288 with 1 Axes>"
      ]
     },
     "metadata": {
      "needs_background": "light"
     },
     "output_type": "display_data"
    }
   ],
   "source": [
    "# a. create a vector with the different values of y, pi, v and s with the use of the equilibrium functions\n",
    "pi_vec = []\n",
    "pi_vec.append(pi_func(0, 0, 0, 0, 0, alpha, h, b, phi, gamma)) # v_t = 0\n",
    "pi_vec.append(pi_func(0, 0, 0.1, 0, 0, alpha, h, b, phi, gamma)) # v_t = 0.1\n",
    "y_vec = []\n",
    "y_vec.append(y_func(0, 0, 0, 0, 0, alpha, h, b, phi, gamma)) # v_t = 0\n",
    "y_vec.append(y_func(0, 0, 0.1, 0, 0, alpha, h, b, phi, gamma)) # v_t = 0.1\n",
    "\n",
    "# b. plot the two equilibriums\n",
    "fig = plt.figure()\n",
    "ax = fig.add_subplot(1, 1, 1)\n",
    "ax.scatter(pi_vec[0], y_vec[0], label='$v_t=0$')\n",
    "ax.scatter(pi_vec[1], y_vec[1], label='$v_t=0.1$')\n",
    "\n",
    "# c. adjust plot\n",
    "ax.grid()\n",
    "ax.legend()\n",
    "ax.set_ylabel('$y_t$')\n",
    "ax.set_xlabel('$\\pi_t$')\n",
    "ax.set_title('equilibrium for $y_{t-1} = \\pi_{t-1} = s_t = s_{t-1} = 0$ for different values of v_t')"
   ]
  },
  {
   "cell_type": "markdown",
   "metadata": {},
   "source": [
    "**Answer:** When $y_{t-1} = \\pi_{t-1} = v_t = s_t = s_{t-1} = 0$ we also get $\\pi_t = y_t = 0$ in equilibrium. When changing $v_t$ we see that both $\\pi_t$ and $y_t$ becomes positive, but $y_t$ is much higher than $\\pi_t$."
   ]
  },
  {
   "cell_type": "markdown",
   "metadata": {},
   "source": [
    "**Question 3:** Starting from $y_{-1} = \\pi_{-1} = s_{-1} = 0$, how does the economy evolve for $x_0 = 0.1$, $x_t = 0, \\forall t > 0$ and $c_t = 0, \\forall t \\geq 0$?"
   ]
  },
  {
   "cell_type": "markdown",
   "metadata": {},
   "source": [
    "**Method:** I also assume that $v_{-1} = 0$.\n",
    "\n",
    "The persistent disturbances is modelled as functions and then the model is simulated for 5 periods. The simulation updates the persistent disturbances which affect $y_t$ and $\\pi_t$. These are calculated for each t by the functions as in question 2."
   ]
  },
  {
   "cell_type": "code",
   "execution_count": 14,
   "metadata": {},
   "outputs": [
    {
     "name": "stdout",
     "output_type": "stream",
     "text": [
      "y evovles from period -1 to 3 as:  ['0.000', '0.024', '0.018', '0.013', '0.010']\n",
      "pi evovles from period -1 to 3 as:  ['0.000', '0.002', '0.003', '0.004', '0.005']\n"
     ]
    }
   ],
   "source": [
    "# a. define new parameters and the persistent disturbances\n",
    "v_t1 = sm.symbols('v_t-1')\n",
    "delta = par['delta']\n",
    "omega = par['omega']\n",
    "v_func = lambda v_t1,x: delta*v_t1 + x\n",
    "s_func = lambda s_t1,c: omega*s_t1 + c\n",
    "\n",
    "# b. initialize y_-1 = pi_-1 = s_-1 = v_-1 = 0\n",
    "pi_vec_q3 = [0]\n",
    "y_vec_q3 = [0]\n",
    "v_vec = [0]\n",
    "s_vec = [0]\n",
    "\n",
    "# c. define x and c for periods: [-1, 0, 1, 2, 3]\n",
    "T = 5\n",
    "c = np.zeros(T)\n",
    "x = np.zeros(T)\n",
    "x[1] = 0.1 # set x0 = 0.1\n",
    "\n",
    "# d. run simulation\n",
    "for t in range(1,T):\n",
    "\n",
    "    # i. update v and s\n",
    "    v_vec.append(v_func(v_vec[t-1], x[t]))\n",
    "    s_vec.append(s_func(s_vec[t-1], c[t]))\n",
    "\n",
    "    # ii. compute y og pi \n",
    "    y_vec_q3.append(y_func(pi_vec_q3[t-1], y_vec_q3[t-1], v_vec[t], s_vec[t], s_vec[t-1], alpha, h, b, phi, gamma))\n",
    "    pi_vec_q3.append(pi_func(pi_vec_q3[t-1], y_vec_q3[t-1], v_vec[t], s_vec[t], s_vec[t-1], alpha, h, b, phi, gamma))\n",
    "\n",
    "# e. print the results\n",
    "print(f'y evovles from period -1 to 3 as: ',['{:.3f}'.format(i) for i in y_vec_q3])\n",
    "print(f'pi evovles from period -1 to 3 as: ',['{:.3f}'.format(i) for i in pi_vec_q3])"
   ]
  },
  {
   "cell_type": "markdown",
   "metadata": {},
   "source": [
    "**Answer:** We see that $y$ increases the most in period 0, but then decreases as t increases. $\\pi$ is increasing in all periods from period 0 but very slowly (relative to y)."
   ]
  },
  {
   "cell_type": "markdown",
   "metadata": {},
   "source": [
    "**Question 4:** Simulate the AS-AD model for 1,000 periods. Calculate the following five statistics:\n",
    "\n",
    "1. Variance of $y_t$, $var(y_t)$\n",
    "2. Variance of $\\pi_t$, $var(\\pi_t)$\n",
    "3. Correlation between $y_t$ and $\\pi_t$, $corr(y_t,\\pi_t)$\n",
    "4. Auto-correlation between $y_t$ and $y_{t-1}$, $corr(y_t,y_{t-1})$\n",
    "5. Auto-correlation between $\\pi_t$ and $\\pi_{t-1}$, $corr(\\pi_t,\\pi_{t-1})$"
   ]
  },
  {
   "cell_type": "markdown",
   "metadata": {},
   "source": [
    "**Method:** The stochastic process is modelled and the model is simulated much like question 3. Now the simulation is defined as a function as it would be useful in the later questions. As in question 3 I assume $y_{-1} = \\pi_{-1} = s_{-1} = v_{-1} = 0$. Based on the simulations the statistics are calculated by np.var() and np.corrcoef()."
   ]
  },
  {
   "cell_type": "code",
   "execution_count": 15,
   "metadata": {},
   "outputs": [
    {
     "name": "stdout",
     "output_type": "stream",
     "text": [
      "variance of y: 1.96\n",
      "variance of pi: 0.96\n",
      "correlation between y and pi: -0.16\n",
      "auto-correlation between y_t and y_t-1: 0.77\n",
      "auto-correlation between pi_t and pi_t-1: 0.98\n"
     ]
    }
   ],
   "source": [
    "# a. define new parameters and the stochastic process\n",
    "np.random.seed(2019)\n",
    "T = 1000\n",
    "sigma_x = par['sigma_x']\n",
    "sigma_c = par['sigma_c']\n",
    "x = np.random.normal(loc = 0, scale = sigma_x, size = T)\n",
    "c = np.random.normal(loc = 0, scale = sigma_c, size = T)\n",
    "\n",
    "# b. create a simulation-function for later use\n",
    "def simulation(T, phi_custom):  \n",
    "    \"\"\"\n",
    "    returns (pi, y) for T simulations of the AS-AD model described above\n",
    "    \n",
    "    parameters: \n",
    "        T: number of simulations\n",
    "        phi_custom: see model description of phi\n",
    "    \"\"\"\n",
    "    # i. initialize y_-1 = pi_-1 = s_-1 = v_-1 = 0\n",
    "    pi_vec_q4 = [0]\n",
    "    y_vec_q4 = [0]\n",
    "    v_vec = [0]\n",
    "    s_vec = [0]\n",
    "\n",
    "    # ii. run simulation\n",
    "    for t in range(1,T):\n",
    "\n",
    "        # 1. update v and s\n",
    "        v_vec.append(v_func(v_vec[t-1], x[t]))\n",
    "        s_vec.append(s_func(s_vec[t-1], c[t]))\n",
    "\n",
    "        # 2. compute y og pi \n",
    "        y_vec_q4.append(y_func(pi_vec_q4[t-1], y_vec_q4[t-1], v_vec[t], s_vec[t], s_vec[t-1], \n",
    "                               alpha, h, b, phi_custom, gamma))\n",
    "        pi_vec_q4.append(pi_func(pi_vec_q4[t-1], y_vec_q4[t-1], v_vec[t], s_vec[t], s_vec[t-1], \n",
    "                                 alpha, h, b, phi_custom, gamma))\n",
    "\n",
    "    # iii. convert lists to numpy arrays\n",
    "    pi_vec_q4 = np.array(pi_vec_q4)\n",
    "    y_vec_q4 = np.array(y_vec_q4)\n",
    "        \n",
    "    return pi_vec_q4, y_vec_q4\n",
    "\n",
    "# c. use the simulation function to solve the problem\n",
    "pi_vec_q4, y_vec_q4 = simulation(T, phi)\n",
    "\n",
    "# d. calculate required statistics\n",
    "print(f'variance of y: {y_vec_q4.var():.2f}')\n",
    "print(f'variance of pi: {pi_vec_q4.var():.2f}')\n",
    "print(f'correlation between y and pi: {np.corrcoef(y_vec_q4, pi_vec_q4)[1,0]:.2f}')\n",
    "print(f'auto-correlation between y_t and y_t-1: {np.corrcoef(y_vec_q4[1:], y_vec_q4[:-1])[1,0]:.2f}') # use staggered vec\n",
    "print(f'auto-correlation between pi_t and pi_t-1: {np.corrcoef(pi_vec_q4[1:], pi_vec_q4[:-1])[1,0]:.2f}') # use staggered vec"
   ]
  },
  {
   "cell_type": "markdown",
   "metadata": {},
   "source": [
    "**Answer:** The variance of $y$ is higher than the variance of $\\pi$ which stems from the demand disturbances, which is more important for $y$ than $\\pi$. The correlation between $y$ and $\\pi$ is negative meaning that if the output gap increases the inflation gap decreases. At last the solution reveals that the auto-correlation is highest for $\\pi$. The closer the auto-correlation is to one the more persistent is the process."
   ]
  },
  {
   "cell_type": "markdown",
   "metadata": {},
   "source": [
    "**Question 5:** Plot how the correlation between $y_t$ and $\\pi_t$ changes with $\\phi$. Use a numerical optimizer or root finder to choose $\\phi\\in(0,1)$ such that the simulated correlation between $y_t$ and $\\pi_t$ comes close to 0.31. "
   ]
  },
  {
   "cell_type": "markdown",
   "metadata": {},
   "source": [
    "**Method:** The question is divided into two. First the plot is made by running the simulation for different values of $\\phi$. The correlation is saved and plotted for each simulation."
   ]
  },
  {
   "cell_type": "code",
   "execution_count": 16,
   "metadata": {},
   "outputs": [
    {
     "name": "stdout",
     "output_type": "stream",
     "text": [
      "correlation between y and pi for phi = 0.00:  -0.16341951848164993\n",
      "correlation between y and pi for phi = 0.11:  -0.14325319711408127\n",
      "correlation between y and pi for phi = 0.22:  -0.12118243573441931\n",
      "correlation between y and pi for phi = 0.33:  -0.09636339735910034\n",
      "correlation between y and pi for phi = 0.44:  -0.06730853431951732\n",
      "correlation between y and pi for phi = 0.56:  -0.03126349851171838\n",
      "correlation between y and pi for phi = 0.67:  0.01724425570864398\n",
      "correlation between y and pi for phi = 0.78:  0.09033851282241802\n",
      "correlation between y and pi for phi = 0.89:  0.21711843010346837\n",
      "correlation between y and pi for phi = 1.00:  0.3897701805881855\n"
     ]
    },
    {
     "data": {
      "text/plain": [
       "Text(0.5, 1.0, 'correlation for different values of $\\\\phi$')"
      ]
     },
     "execution_count": 16,
     "metadata": {},
     "output_type": "execute_result"
    },
    {
     "data": {
      "image/png": "[encoded data removed]",
      "text/plain": [
       "<Figure size 432x288 with 1 Axes>"
      ]
     },
     "metadata": {
      "needs_background": "light"
     },
     "output_type": "display_data"
    }
   ],
   "source": [
    "# a. look that the equilibrium correlation between y and pi for different values of phi\n",
    "phi_q5 = np.linspace(0,1,10)\n",
    "\n",
    "# b. create a dictionary for the lists that come out of the simulation for each phi-value\n",
    "pi_dct = {}\n",
    "y_dct = {}\n",
    "corr = []\n",
    "\n",
    "# c. run the simulation for each phi-value and save the correlation for each simulation in corr-list\n",
    "for i,p in enumerate(phi_q5):\n",
    "    pi_dct['pi_vec_q5_%s' % i], y_dct['y_vec_q5_%s' % i] = simulation(T, phi_q5[i])\n",
    "    corr.append(np.corrcoef(y_dct['y_vec_q5_%s' %i], pi_dct['pi_vec_q5_%s' % i])[1,0])\n",
    "    print(f'correlation between y and pi for phi = {p:.2f}: ', \n",
    "          np.corrcoef(y_dct['y_vec_q5_%s' %i], pi_dct['pi_vec_q5_%s' % i])[1,0])\n",
    "    \n",
    "# d. plot\n",
    "fig = plt.figure()\n",
    "ax = fig.add_subplot(1, 1, 1)\n",
    "ax.plot(phi_q5, corr)\n",
    "\n",
    "# e. adjust plot\n",
    "ax.grid()\n",
    "ax.set_ylabel('correlation between $y$ and $\\pi$')\n",
    "ax.set_xlabel('$\\phi$')\n",
    "ax.set_title('correlation for different values of $\\phi$')"
   ]
  },
  {
   "cell_type": "markdown",
   "metadata": {},
   "source": [
    "**Answer:** The correlation is increasing and becomes positive for $\\phi$ around 0.6. The correlation also grows faster and faster for higher values of $\\phi$.\n",
    "\n",
    "**Method:** For the $\\phi$ that solves correlation = 0.31 see the next cell. I use a root-finder to solve the objective that is $\\phi - 0.31$."
   ]
  },
  {
   "cell_type": "code",
   "execution_count": 17,
   "metadata": {},
   "outputs": [
    {
     "name": "stdout",
     "output_type": "stream",
     "text": [
      "the optimizer has converged\n",
      "optimal phi: 0.94\n",
      "test correlation for this phi:  0.31000000000224054\n"
     ]
    }
   ],
   "source": [
    "# a. define objective\n",
    "obj = lambda phi: np.corrcoef(simulation(T, phi)[0], simulation(T, phi)[1])[1,0] - 0.31\n",
    "\n",
    "# b. optimize for the root (where obj = 0)\n",
    "phi_opt = optimize.root_scalar(obj, x0 = 0.8, bracket = [0,1], method = 'bisect')\n",
    "\n",
    "# c. present result\n",
    "solved = phi_opt.flag\n",
    "phi_opt = phi_opt.root\n",
    "print(f'the optimizer has', solved)\n",
    "print(f'optimal phi: {phi_opt:.2f}')\n",
    "print(f'test correlation for this phi: ', np.corrcoef(simulation(T, phi_opt)[0], simulation(T, phi_opt)[1])[1,0])"
   ]
  },
  {
   "cell_type": "markdown",
   "metadata": {},
   "source": [
    "**Answer:** For the correlation to be around 0.31, $\\phi$ needs to be 0.94."
   ]
  },
  {
   "cell_type": "markdown",
   "metadata": {},
   "source": [
    "**Quesiton 6:** Use a numerical optimizer to choose $\\sigma_x>0$, $\\sigma_c>0$ and $\\phi\\in(0,1)$ to make the simulated statistics as close as possible to US business cycle data where:\n",
    "\n",
    "1. $var(y_t) = 1.64$\n",
    "2. $var(\\pi_t) = 0.21$\n",
    "3. $corr(y_t,\\pi_t) = 0.31$\n",
    "4. $corr(y_t,y_{t-1}) = 0.84$\n",
    "5. $corr(\\pi_t,\\pi_{t-1}) = 0.48$"
   ]
  },
  {
   "cell_type": "markdown",
   "metadata": {},
   "source": [
    "**Method:** The problem is not completely solved and the method is therefore described in detail: \n",
    "\n",
    "- Step a modifies the simulation-function to also take sigma_x and sigma_c as inputs and put the stochastic process inside the function. This could not be done in the original simulation-function as it would affect the plot in question 5 as x and c would be re-chosen in the loop.\n",
    "- Step b defines the vector of parameters, which we want to optimize for.\n",
    "- Step c defines difference between the current and desired values for the variances and correlations. This is done as I use them in sum in a objective, that should be equal to zero.\n",
    "- Step d defines the bounds on the parameters given in the question.\n",
    "- Step e sets the initial guess equal to the phi found in question 5 and the old values of the sigmas.\n",
    "- Step f is solution attempt 1. The solution should be found with optimize.minimize and the objective is the sum of all the differences between the desired values and the actual value in variances and correlations. This objective = 0 would yield the optimal vector of parameters. The problem is therefore obviously that the solver minimizes the objective < 0. I have tried to modify the solver e.g. by making an inequality constraint that the objective >= 0, but that doesn't work. To summarize: the optimizer converges but the solution is not correct as the objective gets minimized below the desired level = 0.\n",
    "- Step g is solution attempt 2. As the first attempt have the problem that the objective is minimized, when I want to find a root to the problem I use optimize.root in the second solution attempt. optimize.root can only solve the same number of equations as the parameters to be optimized. Therefore only 3 of the desired inputs are used and then it should be investigated if the solution leads the last two inputs to be fulfilled as well. The optimizer doesn't converge, and therefore I never reach the point to investigate the omitted inputs. There also is a problem with this optimizer, as it doesn't take bounds into account. To summarize: the optimizer doesn't converge and cannot take the bounds into account.\n",
    "\n",
    "Also I have tried some solutions with the desired variances and correlations used as constraints, but then I don't know what objective to optimize other than to pick one of the desired equations. But this give a problem of 1 equation with 3 unknowns. "
   ]
  },
  {
   "cell_type": "code",
   "execution_count": 18,
   "metadata": {},
   "outputs": [
    {
     "name": "stdout",
     "output_type": "stream",
     "text": [
      "first attempt:      fun: -0.30464351572289067\n",
      "     jac: array([0., 0., 0.])\n",
      " message: 'Optimization terminated successfully.'\n",
      "    nfev: 5\n",
      "     nit: 1\n",
      "    njev: 1\n",
      "  status: 0\n",
      " success: True\n",
      "       x: array([0.94493442, 3.492     , 0.2       ])\n",
      "\n",
      "second attempt:     fjac: array([[1., 0., 0.],\n",
      "       [0., 1., 0.],\n",
      "       [0., 0., 1.]])\n",
      "     fun: array([-0.41924007, -0.84076389, -0.49866049])\n",
      " message: 'The iteration is not making good progress, as measured by the \\n  improvement from the last ten iterations.'\n",
      "    nfev: 17\n",
      "     qtf: array([-0.41924007, -0.84076389, -0.49866049])\n",
      "       r: array([-0.,  0.,  0., -0.,  0.,  0.])\n",
      "  status: 5\n",
      " success: False\n",
      "       x: array([0.94493442, 3.492     , 0.2       ])\n"
     ]
    }
   ],
   "source": [
    "# a. modify the simulation function to also include the stochastic processs\n",
    "def simulation2(T, phi_custom, sigma_x, sigma_c):  \n",
    "    \"\"\"\n",
    "    returns (pi, y) for T simulations of the AS-AD model described above with more selective parameters\n",
    "    \n",
    "    parameters: \n",
    "        T: number of simulations\n",
    "        phi_custom, sigma_x, sigma_c: see model description\n",
    "    \"\"\"\n",
    "    # i. define stochastic process inside function\n",
    "    x = np.random.normal(loc = 0, scale = sigma_x, size = T)\n",
    "    c = np.random.normal(loc = 0, scale = sigma_c, size = T)\n",
    "    \n",
    "    # ii. initialize y_-1 = pi_-1 = s_-1 = v_-1 = 0\n",
    "    pi_vec_q6 = [0]\n",
    "    y_vec_q6 = [0]\n",
    "    v_vec = [0]\n",
    "    s_vec = [0]\n",
    "\n",
    "    # iii. run simulation\n",
    "    for t in range(1,T):\n",
    "\n",
    "        # 1. update v and s\n",
    "        v_vec.append(v_func(v_vec[t-1], x[t]))\n",
    "        s_vec.append(s_func(s_vec[t-1], c[t]))\n",
    "\n",
    "        # 2. compute y og pi \n",
    "        y_vec_q6.append(y_func(pi_vec_q6[t-1], y_vec_q6[t-1], v_vec[t], s_vec[t], s_vec[t-1],\n",
    "                               alpha, h, b, phi_custom, gamma))\n",
    "        pi_vec_q6.append(pi_func(pi_vec_q6[t-1], y_vec_q6[t-1], v_vec[t], s_vec[t], s_vec[t-1], \n",
    "                                 alpha, h, b, phi_custom, gamma))\n",
    "\n",
    "    # iv. convert lists to numpy arrays\n",
    "    pi_vec_q6 = np.array(pi_vec_q6)\n",
    "    y_vec_q6 = np.array(y_vec_q6)\n",
    "        \n",
    "    return pi_vec_q6, y_vec_q6\n",
    "\n",
    "# b. define the vector of parameters we want to optimize for\n",
    "choose = [phi, sigma_x, sigma_c]\n",
    "\n",
    "# c. define inputs to objective (the constraints)\n",
    "var_y = np.var(simulation2(T, choose[0], choose[1], choose[2])[1]) - 1.64\n",
    "var_pi = np.var(simulation2(T, choose[0], choose[1], choose[2])[0]) - 0.21\n",
    "corr_ypi = np.corrcoef(simulation2(T, choose[0], choose[1], choose[2])[0],\n",
    "                       simulation2(T, choose[0], choose[1], choose[2])[1])[1,0] - 0.31\n",
    "corr_y = np.corrcoef(simulation2(T, choose[0], choose[1], choose[2])[1][1:], \n",
    "                     simulation2(T, choose[0], choose[1], choose[2])[1][:-1])[1,0] - 0.84\n",
    "corr_pi = np.corrcoef(simulation2(T, choose[0], choose[1], choose[2])[0][1:],\n",
    "                      simulation2(T, choose[0], choose[1], choose[2])[0][:-1])[1,0] - 0.48\n",
    "\n",
    "# d. define bounds on the parameters\n",
    "bounds = [[0,1], [0,50], [0,50]]\n",
    "\n",
    "# e. set initial guess equal to already found values\n",
    "x0 = np.array([phi_opt, sigma_x, sigma_c])\n",
    "\n",
    "# f. solution attempt 1: use minimizer with bounds \n",
    "obj1 = lambda choose: var_y + var_pi + corr_ypi + corr_y + corr_pi\n",
    "choose_opt1 = optimize.minimize(obj1, x0 = x0, bounds = bounds,  method='SLSQP')\n",
    "\n",
    "# g. solution attempt 2: use root-finding \n",
    "obj2 = lambda choose: np.array([corr_ypi, corr_y, corr_pi])\n",
    "choose_opt2 = optimize.root(obj2, x0 = x0)\n",
    "\n",
    "# h. print both solution attempts\n",
    "print(f'first attempt:', choose_opt1)\n",
    "print(f'')\n",
    "print(f'second attempt:', choose_opt2)"
   ]
  },
  {
   "cell_type": "markdown",
   "metadata": {},
   "source": [
    "# 3. Exchange economy"
   ]
  },
  {
   "cell_type": "markdown",
   "metadata": {},
   "source": [
    "Consider an **exchange economy** with\n",
    "\n",
    "1. 3 goods, $(x_1,x_2,x_3)$\n",
    "2. $N$ consumers indexed by \\\\( j \\in \\{1,2,\\dots,N\\} \\\\)\n",
    "3. Preferences are Cobb-Douglas with log-normally distributed coefficients\n",
    "\n",
    "    $$ \\begin{eqnarray*}\n",
    "    u^{j}(x_{1},x_{2},x_{3}) &=& \n",
    "    \\left(x_{1}^{\\beta_{1}^{j}}x_{2}^{\\beta_{2}^{j}}x_{3}^{\\beta_{3}^{j}}\\right)^{\\gamma}\\\\\n",
    "     &  & \\,\\,\\,\\beta_{i}^{j}=\\frac{\\alpha_{i}^{j}}{\\alpha_{1}^{j}+\\alpha_{2}^{j}+\\alpha_{3}^{j}} \\\\\n",
    "     &  & \\,\\,\\,\\boldsymbol{\\alpha}^{j}=(\\alpha_{1}^{j},\\alpha_{2}^{j},\\alpha_{3}^{j}) \\\\ \n",
    "     &  & \\,\\,\\,\\log(\\boldsymbol{\\alpha}^j) \\sim \\mathcal{N}(\\mu,\\Sigma) \\\\\n",
    "    \\end{eqnarray*} $$\n",
    "\n",
    "4. Endowments are exponentially distributed,\n",
    "\n",
    "$$\n",
    "\\begin{eqnarray*}\n",
    "\\boldsymbol{e}^{j} &=& (e_{1}^{j},e_{2}^{j},e_{3}^{j}) \\\\\n",
    " &  & e_i^j \\sim f, f(z;\\zeta) =  1/\\zeta \\exp(-z/\\zeta)\n",
    "\\end{eqnarray*}\n",
    "$$"
   ]
  },
  {
   "cell_type": "markdown",
   "metadata": {},
   "source": [
    "Let $p_3 = 1$ be the **numeraire**. The implied **demand functions** are:\n",
    "\n",
    "$$\n",
    "\\begin{eqnarray*}\n",
    "x_{i}^{\\star j}(p_{1},p_{2},\\boldsymbol{e}^{j})&=&\\beta^{j}_i\\frac{I^j}{p_{i}} \\\\\n",
    "\\end{eqnarray*}\n",
    "$$\n",
    "\n",
    "where consumer $j$'s income is\n",
    "\n",
    "$$I^j = p_1 e_1^j + p_2 e_2^j +p_3 e_3^j$$"
   ]
  },
  {
   "cell_type": "markdown",
   "metadata": {},
   "source": [
    "The **parameters** and **random preferences and endowments** are given by:"
   ]
  },
  {
   "cell_type": "code",
   "execution_count": 19,
   "metadata": {},
   "outputs": [],
   "source": [
    "# a. parameters\n",
    "N = 50000\n",
    "mu = np.array([3,2,1])\n",
    "Sigma = np.array([[0.25, 0, 0], [0, 0.25, 0], [0, 0, 0.25]])\n",
    "gamma = 0.8\n",
    "zeta = 1\n",
    "\n",
    "# b. random draws\n",
    "seed = 1986\n",
    "np.random.seed(seed)\n",
    "\n",
    "# preferences\n",
    "alphas = np.exp(np.random.multivariate_normal(mu, Sigma, size=N))\n",
    "betas = alphas/np.reshape(np.sum(alphas,axis=1),(N,1))\n",
    "\n",
    "# endowments\n",
    "e1 = np.random.exponential(zeta,size=N)\n",
    "e2 = np.random.exponential(zeta,size=N)\n",
    "e3 = np.random.exponential(zeta,size=N)"
   ]
  },
  {
   "cell_type": "markdown",
   "metadata": {},
   "source": [
    "**Question 1:** Plot the histograms of the budget shares for each good across agents.\n",
    "\n",
    "Consider the **excess demand functions:**\n",
    "\n",
    "$$ z_i(p_1,p_2) = \\sum_{j=1}^N x_{i}^{\\star j}(p_{1},p_{2},\\boldsymbol{e}^{j}) - e_i^j$$\n",
    "\n",
    "**Question 2:** Plot the excess demand functions."
   ]
  },
  {
   "cell_type": "markdown",
   "metadata": {},
   "source": [
    "**Quesiton 3:** Find the Walras-equilibrium prices, $(p_1,p_2)$, where both excess demands are (approximately) zero, e.g. by using the following tâtonnement process:\n",
    "\n",
    "1. Guess on $p_1 > 0$, $p_2 > 0$ and choose tolerance $\\epsilon > 0$ and adjustment aggressivity parameter, $\\kappa > 0$.\n",
    "2. Calculate $z_1(p_1,p_2)$ and $z_2(p_1,p_2)$.\n",
    "3. If $|z_1| < \\epsilon$ and $|z_2| < \\epsilon$ then stop.\n",
    "4. Else set $p_1 = p_1 + \\kappa \\frac{z_1}{N}$ and $p_2 = p_2 + \\kappa \\frac{z_2}{N}$ and return to step 2."
   ]
  },
  {
   "cell_type": "markdown",
   "metadata": {},
   "source": [
    "**Question 4:** Plot the distribution of utility in the Walras-equilibrium and calculate its mean and variance."
   ]
  },
  {
   "cell_type": "markdown",
   "metadata": {},
   "source": [
    "**Question 5:** Find the Walras-equilibrium prices if instead all endowments were distributed equally. Discuss the implied changes in the distribution of utility. Does the value of $\\gamma$ play a role for your conclusions?"
   ]
  },
  {
   "cell_type": "markdown",
   "metadata": {},
   "source": [
    "**Question 1:** Plot the histograms of the budget shares for each good across agents."
   ]
  },
  {
   "cell_type": "markdown",
   "metadata": {},
   "source": [
    "**Method:** In the Cobb-Douglas function where the power sums to 1 the power must be equal to the budget share for each good. Therefore the 3 betas are plotted below."
   ]
  },
  {
   "cell_type": "code",
   "execution_count": 20,
   "metadata": {},
   "outputs": [
    {
     "data": {
      "image/png": "[encoded data removed]",
      "text/plain": [
       "<Figure size 864x288 with 3 Axes>"
      ]
     },
     "metadata": {
      "needs_background": "light"
     },
     "output_type": "display_data"
    }
   ],
   "source": [
    "# a. create figure with 3 subplots\n",
    "fig, ax = plt.subplots(1, 3)\n",
    "\n",
    "# b. plot the betas\n",
    "ax[0].hist(betas[:,0], bins = 50, density = True, histtype = 'bar')\n",
    "ax[1].hist(betas[:,1], bins = 50, density = True, histtype = 'bar')\n",
    "ax[2].hist(betas[:,2], bins = 50, density = True, histtype = 'bar')\n",
    "\n",
    "# c. adjust the graphs\n",
    "for i in range(3):\n",
    "    ax[i].set_title(f'budget share of good {i+1}')\n",
    "    ax[i].set_ylabel('percent')\n",
    "    ax[i].set_xlabel(f'$beta_{i+1}$')\n",
    "fig.set_figheight(4)\n",
    "fig.set_figwidth(12)\n",
    "fig.tight_layout()\n",
    "plt.show()"
   ]
  },
  {
   "cell_type": "markdown",
   "metadata": {},
   "source": [
    "**Answer:** The budget share of good 1 is a bit left skewed and centered around 0.65. The budget share of good 2 is right skewed and has a lower mean than good 1 about 0.25. The budget share of good 3 is more compact than the others and is centered around 0.1. This means that consumption of good 1 will use the largest share of the income: $\\frac{p_1*x_1}{I}$ relative to the other goods."
   ]
  },
  {
   "cell_type": "markdown",
   "metadata": {},
   "source": [
    "**Question 2:** Plot the excess demand functions."
   ]
  },
  {
   "cell_type": "markdown",
   "metadata": {},
   "source": [
    "**Method:** Firstly the excess demand function is defined by creating the demand functions. After that it is plotted for good 1 and 2 for different values of $p_1$ and $p_2$. Excess demand is independent of $p_3$ as $p_3$ is numeraire and will therefore not be plotted for good 3."
   ]
  },
  {
   "cell_type": "code",
   "execution_count": 21,
   "metadata": {},
   "outputs": [],
   "source": [
    "# create functions for demand for each good\n",
    "\n",
    "# demand for good 1 \n",
    "def demand_g1(p1, p2, e1, e2, e3, betas):\n",
    "    I = p1*e1 + p2*e2 + e3\n",
    "    return betas[:,0]*I/p1 # use betas for good 1\n",
    "\n",
    "# demand for good 2\n",
    "def demand_g2(p1, p2, e1, e2, e3, betas):\n",
    "    I = p1*e1 + p2*e2 + e3\n",
    "    return betas[:,1]*I/p2 # use betas for good 2\n",
    "\n",
    "# demand for good 3\n",
    "def demand_g3(p1, p2, e1, e2, e3, betas):\n",
    "    I = p1*e1 + p2*e2 + e3\n",
    "    return betas[:,2]*I # use betas for good 3\n",
    "\n",
    "# create excess demand functions\n",
    "\n",
    "# excess demand for good 1\n",
    "def excess_demand_1(p1, p2, e1, e2, e3, betas):\n",
    "    \n",
    "    # demand\n",
    "    demand = np.sum(demand_g1(p1, p2, e1, e2, e3, betas))\n",
    "    \n",
    "    # supply\n",
    "    supply = np.sum(e1)\n",
    "    \n",
    "    excess_demand_1 = demand - supply\n",
    "    return excess_demand_1\n",
    "\n",
    "# excess demand for good 2\n",
    "def excess_demand_2(p1, p2, e1, e2, e3, betas):\n",
    "    \n",
    "    # demand\n",
    "    demand = np.sum(demand_g2(p1, p2, e1, e2, e3, betas))\n",
    "    \n",
    "    # supply\n",
    "    supply = np.sum(e2)\n",
    "    \n",
    "    excess_demand_2 = demand - supply\n",
    "    return excess_demand_2"
   ]
  },
  {
   "cell_type": "code",
   "execution_count": 22,
   "metadata": {},
   "outputs": [
    {
     "name": "stderr",
     "output_type": "stream",
     "text": [
      "C:\\Users\\anine95\\Anaconda3\\lib\\site-packages\\ipykernel_launcher.py:6: RuntimeWarning: divide by zero encountered in true_divide\n",
      "  \n",
      "C:\\Users\\anine95\\Anaconda3\\lib\\site-packages\\ipykernel_launcher.py:11: RuntimeWarning: divide by zero encountered in true_divide\n",
      "  # This is added back by InteractiveShellApp.init_path()\n"
     ]
    },
    {
     "data": {
      "image/png": "[encoded data removed]",
      "text/plain": [
       "<Figure size 720x288 with 2 Axes>"
      ]
     },
     "metadata": {
      "needs_background": "light"
     },
     "output_type": "display_data"
    }
   ],
   "source": [
    "# a. create vectors with different prices\n",
    "p1_vec = np.linspace(0, 8, 10)\n",
    "p2_vec = np.linspace(0, 1.5, 10)\n",
    "\n",
    "# b. prepare vectors\n",
    "z_1_1 = []\n",
    "z_1_2 = []\n",
    "z_2_1 = []\n",
    "z_2_2 = []\n",
    "\n",
    "# c. calculate the excess demand for different prices and append to the vectors\n",
    "for i in range(len(p1_vec)):\n",
    "    z_1_1.append(excess_demand_1(p1_vec[i], 1, e1, e2, e3, betas)) # p2 = 1\n",
    "    z_1_2.append(excess_demand_1(p1_vec[i], 2, e1, e2, e3, betas)) # p2 = 2\n",
    "    z_2_1.append(excess_demand_2(1, p2_vec[i], e1, e2, e3, betas)) # p1 = 1\n",
    "    z_2_2.append(excess_demand_2(2, p2_vec[i], e1, e2, e3, betas)) # p1 = 2\n",
    "\n",
    "# d. plot the excess demand for good 1 and 2\n",
    "fig,ax = plt.subplots(1,2)\n",
    "ax[0].plot(p1_vec, z_1_1, label='$p_2 = 1$')\n",
    "ax[0].plot(p1_vec, z_1_2, label='$p_2 = 2$')\n",
    "ax[1].plot(p2_vec, z_2_1, label='$p_1 = 1$')\n",
    "ax[1].plot(p2_vec, z_2_2, label='$p_1 = 2$')\n",
    "\n",
    "# e. adjust the graphs\n",
    "for i in range(2):\n",
    "    ax[i].set_title(f'excess demand of good {i+1}')\n",
    "    ax[i].set_ylabel('excess demand')\n",
    "    ax[i].set_xlabel(f'$p_{i+1}$')\n",
    "    ax[i].legend()\n",
    "    ax[i].yaxis.set_major_formatter(mpl.ticker.StrMethodFormatter('{x:,.0f}'))\n",
    "\n",
    "fig.set_figheight(4)\n",
    "fig.set_figwidth(10)\n",
    "fig.tight_layout()\n",
    "plt.show()"
   ]
  },
  {
   "cell_type": "markdown",
   "metadata": {},
   "source": [
    "**Answer:** From the plots we see that the excess demand for good 2 is more sensitive to different prices. When increasing $p_1$ in the plot for good 2 the excess demand function shifts to the right meaning that excess demand is higher for the same $p_2$. In equilibrium we want a combination where both excess demands is equal to 0. From this we will expect a higher equilibrium price for good 1 than for good 2."
   ]
  },
  {
   "cell_type": "markdown",
   "metadata": {},
   "source": [
    "**Quesiton 3:** Find the Walras-equilibrium prices, $(p_1,p_2)$, where both excess demands are (approximately) zero, e.g. by using the following tâtonnement process:\n",
    "\n",
    "1. Guess on $p_1 > 0$, $p_2 > 0$ and choose tolerance $\\epsilon > 0$ and adjustment aggressivity parameter, $\\kappa > 0$.\n",
    "2. Calculate $z_1(p_1,p_2)$ and $z_2(p_1,p_2)$.\n",
    "3. If $|z_1| < \\epsilon$ and $|z_2| < \\epsilon$ then stop.\n",
    "4. Else set $p_1 = p_1 + \\kappa \\frac{z_1}{N}$ and $p_2 = p_2 + \\kappa \\frac{z_2}{N}$ and return to step 2."
   ]
  },
  {
   "cell_type": "markdown",
   "metadata": {},
   "source": [
    "**Method:** The algorithm given is followed."
   ]
  },
  {
   "cell_type": "code",
   "execution_count": 23,
   "metadata": {},
   "outputs": [
    {
     "name": "stdout",
     "output_type": "stream",
     "text": [
      "1415: (p1, p2) = (6.49, 2.62) => excess demand (z1, z2) => (0.00, 0.00)\n"
     ]
    }
   ],
   "source": [
    "# step 1: guess on p1 and p2 (epsilon and kappa is defined in the function)\n",
    "p1_0 = 1\n",
    "p2_0 = 1\n",
    "\n",
    "# create a function to find equilibrium\n",
    "def find_equilibrium(p1, p2, e1, e2, e3, betas, kappa = 1, eps = 1e-8, maxiter = 5000):\n",
    "    \"\"\"\n",
    "    returns the Walras-equilibrium prices (p1, p2) when p3 = 1 is numeraire\n",
    "    \n",
    "    parameters: see model description\n",
    "    \"\"\"\n",
    "    t = 0\n",
    "    while True:\n",
    "\n",
    "        # a. step 2: excess demand\n",
    "        Z1 = excess_demand_1(p1, p2, e1, e2, e3, betas)\n",
    "        Z2 = excess_demand_2(p1, p2, e1, e2, e3, betas)\n",
    "        \n",
    "        # b: step 3: stop?\n",
    "        if  (np.abs(Z1) < eps and np.abs(Z2) < eps) or t >= maxiter:\n",
    "            print(f'{t:3d}: (p1, p2) = ({p1:.2f}, {p2:.2f}) => excess demand (z1, z2) => ({Z1:.2f}, {Z2:.2f})')\n",
    "            break    \n",
    "    \n",
    "        # c. step 4: update p1 and p2 and return to step 2\n",
    "        p1 = p1 + kappa*Z1/N\n",
    "        p2 = p2 + kappa*Z2/N\n",
    "                   \n",
    "        t += 1    \n",
    "\n",
    "    return p1, p2\n",
    "\n",
    "# use the function to solve the problem\n",
    "p1, p2 = find_equilibrium(p1_0, p2_0, e1, e2, e3, betas)"
   ]
  },
  {
   "cell_type": "markdown",
   "metadata": {},
   "source": [
    "**Answer:** From this we see that the optimal prices is $(p_1, p_2, p_3) = (6.49, 2.62, 1)$. This reflects the valuation of the goods relative to each other in the utility, $\\beta_i^j$ and is consistent with the expectations described in question 1 and 2."
   ]
  },
  {
   "cell_type": "markdown",
   "metadata": {},
   "source": [
    "**Question 4:** Plot the distribution of utility in the Walras-equilibrium and calculate its mean and variance."
   ]
  },
  {
   "cell_type": "markdown",
   "metadata": {},
   "source": [
    "**Method:** The utility function is defined and then used to calculate the utility for each agent."
   ]
  },
  {
   "cell_type": "code",
   "execution_count": 24,
   "metadata": {},
   "outputs": [
    {
     "name": "stdout",
     "output_type": "stream",
     "text": [
      "mean of utility: 1.01\n",
      "variance of utility: 0.32\n"
     ]
    },
    {
     "name": "stderr",
     "output_type": "stream",
     "text": [
      "C:\\Users\\anine95\\Anaconda3\\lib\\site-packages\\matplotlib\\figure.py:445: UserWarning: Matplotlib is currently using module://ipykernel.pylab.backend_inline, which is a non-GUI backend, so cannot show the figure.\n",
      "  % get_backend())\n"
     ]
    },
    {
     "data": {
      "image/png": "[encoded data removed]",
      "text/plain": [
       "<Figure size 432x288 with 1 Axes>"
      ]
     },
     "metadata": {
      "needs_background": "light"
     },
     "output_type": "display_data"
    }
   ],
   "source": [
    "# a. define the utility function\n",
    "def utility(x1, x2, x3, betas, gamma):\n",
    "    return (x1**betas[:,0] * x2**betas[:,1] * x3**betas[:,2])**gamma\n",
    "\n",
    "# b. get the demand for each good\n",
    "x1 = demand_g1(p1, p2, e1, e2, e3, betas)\n",
    "x2 = demand_g2(p1, p2, e1, e2, e3, betas)\n",
    "x3 = demand_g3(p1, p2, e1, e2, e3, betas)\n",
    "\n",
    "# c. calculate utility \n",
    "u = utility(x1, x2, x3, betas, gamma)\n",
    "\n",
    "# d. calculate mean and variance on the distribution of utility\n",
    "print(f'mean of utility: {u.mean():.2f}')\n",
    "print(f'variance of utility: {u.var():.2f}')\n",
    "\n",
    "# e. plot the distribution of utility in equilibrium\n",
    "fig = plt.figure()\n",
    "ax = fig.add_subplot(1,1,1)\n",
    "ax.hist(u, bins = 50, density = True, label = 'histogram')\n",
    "pd.Series(u).plot(kind = 'density', label = 'kernel density')\n",
    "\n",
    "# f. adjust plot\n",
    "ax.set_ylabel('percent')\n",
    "ax.set_xlabel('$u$')\n",
    "ax.legend()\n",
    "ax.set_title('distribution of utility in equilibrium')\n",
    "fig.show()"
   ]
  },
  {
   "cell_type": "markdown",
   "metadata": {},
   "source": [
    "**Answer:** The utilities in equilibrium is approximately normal distributed around the mean = 1.01. It is a bit skewed to the right, as noone has a negative utility."
   ]
  },
  {
   "cell_type": "markdown",
   "metadata": {},
   "source": [
    "**Question 5:** Find the Walras-equilibrium prices if instead all endowments were distributed equally. Discuss the implied changes in the distribution of utility. Does the value of $\\gamma$ play a role for your conclusions?"
   ]
  },
  {
   "cell_type": "markdown",
   "metadata": {},
   "source": [
    "**Method:** As the question asks to equally distributed endowments I look at the case, where everyone has the same endowments (homogenous). Alternatively I could have looked at endowments drawn from the uniform distribution (but that is not how I understand the question). Furthermore the kernel densities will not be showed in the graphs to keep them simple.\n",
    "\n",
    "After the new endwoments are defined the prices, demands and utilities are found by the functions made in the earlier questions. The new utilities are compared to the old utilities for two different values of $\\gamma$."
   ]
  },
  {
   "cell_type": "code",
   "execution_count": 25,
   "metadata": {},
   "outputs": [
    {
     "name": "stdout",
     "output_type": "stream",
     "text": [
      "708: (p1, p2) = (6.45, 2.59) => excess demand (z1, z2) => (0.00, 0.00)\n"
     ]
    },
    {
     "data": {
      "image/png": "[encoded data removed]",
      "text/plain": [
       "<Figure size 720x288 with 2 Axes>"
      ]
     },
     "metadata": {
      "needs_background": "light"
     },
     "output_type": "display_data"
    }
   ],
   "source": [
    "# a. set equally distributed endowments => everyone has (e1, e2, e3) = (2, 2, 2)\n",
    "e1_new = np.full(N, 2)\n",
    "e2_new = np.full(N, 2)\n",
    "e3_new = np.full(N, 2)\n",
    "\n",
    "# b. find prices in the new equilibrium\n",
    "p1_new, p2_new = find_equilibrium(p1_0, p2_0, e1_new, e2_new, e3_new, betas)\n",
    "\n",
    "# c. get the demand for each good in the new equilibrium\n",
    "x1_new = demand_g1(p1_new, p2_new, e1_new, e2_new, e3_new, betas)\n",
    "x2_new = demand_g2(p1_new, p2_new, e1_new, e2_new, e3_new, betas)\n",
    "x3_new = demand_g3(p1_new, p2_new, e1_new, e2_new, e3_new, betas)\n",
    "\n",
    "# d. find the new utilities\n",
    "u_new = utility(x1_new, x2_new, x3_new, betas, gamma)\n",
    "\n",
    "# e. plot the distribution of utility in original and new equilibrium for gamma = 0.8\n",
    "fig, ax = plt.subplots(1, 2)\n",
    "ax[0].hist(u, bins = 50, density = True, label = 'u with heterogenous endowments')\n",
    "ax[0].hist(u_new, bins = 50, density = True, label = 'u with equally distributed endowments')\n",
    "\n",
    "# f. adjust plot\n",
    "ax[0].set_xlim([0, 4])\n",
    "ax[0].legend()\n",
    "ax[0].set_ylabel('percent')\n",
    "ax[0].set_xlabel('$u$')\n",
    "ax[0].set_title('distribution of utility in equilibrium with $\\gamma = 0.8$')\n",
    "\n",
    "# g. compare and plot the distributions of utilities for gamma = 0.2\n",
    "u_gam = utility(x1, x2, x3, betas, 0.2)\n",
    "u_new_gam = utility(x1_new, x2_new, x3_new, betas, 0.2)\n",
    "\n",
    "ax[1].hist(u_gam, bins = 50, density = True, label = 'u with heterogenous endowments')\n",
    "ax[1].hist(u_new_gam, bins = 50, density = True, label = 'u with equally distributed endowments')\n",
    "\n",
    "# h. adjust plot\n",
    "ax[1].set_xlim([0, 4])\n",
    "ax[1].set_ylim([0, 45])\n",
    "ax[1].legend()\n",
    "ax[1].set_ylabel('percent')\n",
    "ax[1].set_xlabel('$u$')\n",
    "ax[1].set_title('distribution of utility in equilibrium $\\gamma = 0.2$')\n",
    "\n",
    "fig.set_figheight(4)\n",
    "fig.set_figwidth(10)\n",
    "fig.tight_layout()\n",
    "plt.show()"
   ]
  },
  {
   "cell_type": "markdown",
   "metadata": {},
   "source": [
    "**Answer:** In the left graph we see that the distribution of utilities is much more compact with equally distributed endowments. Also the mean utility is higher for these endowments. The prices in the Walras-equilibrium is almost the same as with the other endowments. Differences can be due to precision of the optimizer. So the prices seem independent of the distribution endowments.\n",
    "\n",
    "The right graph makes it possible to compare the distribution with a new value of gamma. For this purpose it is convenient to retain the same x-axis as in the left graph. We see that the lower value of gamma decreases the variance in the distribution and make it more symmetric. But the comparison between the utility with heterogenous and equally distributed endowments is the same for the lower value of gamma namely that utilities with equally distributed endowments are more compact and have a higher mean. But it looks like the difference in mean between the two distributions in the right graph is smaller than with the higher value of gamma."
   ]
  }
 ],
 "metadata": {
  "kernelspec": {
   "display_name": "Python 3",
   "language": "python",
   "name": "python3"
  },
  "language_info": {
   "codemirror_mode": {
    "name": "ipython",
    "version": 3
   },
   "file_extension": ".py",
   "mimetype": "text/x-python",
   "name": "python",
   "nbconvert_exporter": "python",
   "pygments_lexer": "ipython3",
   "version": "3.7.1"
  },
  "toc-autonumbering": false
 },
 "nbformat": 4,
 "nbformat_minor": 2
}
