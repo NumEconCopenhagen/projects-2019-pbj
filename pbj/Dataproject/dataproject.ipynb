{
 "cells": [
  {
   "cell_type": "markdown",
   "metadata": {},
   "source": [
    "# Introduction"
   ]
  },
  {
   "cell_type": "markdown",
   "metadata": {},
   "source": [
    "This notebook will look into long-term unemployment. First the data is found on Statistics Denmark, accessed by an API, cleaned and structured and afterwards analyzed briefly. To extend the analysis the dataset is merged with data on gender and unemployment.\n",
    "First I import the packages that will be used in this notebook:"
   ]
  },
  {
   "cell_type": "code",
   "execution_count": 1,
   "metadata": {},
   "outputs": [],
   "source": [
    "# import relevant packages\n",
    "import numpy as np\n",
    "import matplotlib as mpl\n",
    "import matplotlib.pyplot as plt\n",
    "import ipywidgets as widgets\n",
    "import pandas as pd # install with pip install pandas-datareader\n",
    "import pydst # install with pip install git+https://github.com/elben10/pydst\n",
    "dst = pydst.Dst(lang = 'en')"
   ]
  },
  {
   "cell_type": "markdown",
   "metadata": {},
   "source": [
    "# Find Data on Statistics Denmark"
   ]
  },
  {
   "cell_type": "markdown",
   "metadata": {},
   "source": [
    "Statistics Denmark contains a lot of tables. Therefore it was easier to go to [statisikbanken.dk (bank of statistics)](http://statistikbanken.dk/statbank5a/default.asp?w=1366) and surf around to find some interesting tables. I ended up with the table **AULK10** that contains unemployment after duration and age. In this notebook I will focus on long-term unemployment which is specified later in the code.\n",
    "\n",
    "Now I have considered what table to look at, I need some lines of code to decide what variables I am interested in."
   ]
  },
  {
   "cell_type": "code",
   "execution_count": 2,
   "metadata": {},
   "outputs": [
    {
     "name": "stdout",
     "output_type": "stream",
     "text": [
      "   elimination           id              text   time  \\\n",
      "0        False         KMDR          duration  False   \n",
      "1        False        ENHED              unit  False   \n",
      "2         True  YDELSESTYPE  type of benefits  False   \n",
      "3         True        ALDER               age  False   \n",
      "4        False          Tid              time   True   \n",
      "\n",
      "                                              values  \n",
      "0  [{'id': '026', 'text': '26 weeks'}, {'id': '03...  \n",
      "1  [{'id': '1', 'text': 'Persons (number)'}, {'id...  \n",
      "2  [{'id': 'TOT', 'text': 'Total'}, {'id': '01', ...  \n",
      "3  [{'id': 'TOT', 'text': 'Age, total'}, {'id': '...  \n",
      "4  [{'id': '2008M07', 'text': '2008M07'}, {'id': ...  \n"
     ]
    },
    {
     "data": {
      "text/plain": [
       "[{'id': '1', 'text': 'Persons (number)'},\n",
       " {'id': '4', 'text': 'Persons in pct. of gross unemployed'},\n",
       " {'id': '5', 'text': 'Persons per 1,000 in the labour force'}]"
      ]
     },
     "execution_count": 2,
     "metadata": {},
     "output_type": "execute_result"
    }
   ],
   "source": [
    "# see the name of the variables\n",
    "aulk10 = dst.get_variables(table_id = 'AULK10')\n",
    "print(aulk10)\n",
    "\n",
    "# explore the values for 'unit' further to pick only one of them\n",
    "aulk10.loc[1]['values']"
   ]
  },
  {
   "cell_type": "markdown",
   "metadata": {},
   "source": [
    "The table consists of 5 variables: duration, unit, type of benefits, age and time. I choose to explore duration (grouped), age (grouped) and time. Because I don't want to explore different types of benefits I looked into the values for that variable and will in the next lines of code choose id=1: **persons (number).**"
   ]
  },
  {
   "cell_type": "code",
   "execution_count": 3,
   "metadata": {},
   "outputs": [
    {
     "name": "stdout",
     "output_type": "stream",
     "text": [
      "       KMDR             ENHED              ALDER      TID YDELSESTYPE  INDHOLD\n",
      "0  26 weeks  Persons (number)         Age, total  2008M07       Total  23352.0\n",
      "1  26 weeks  Persons (number)        16-29 years  2008M07       Total   3761.0\n",
      "2  26 weeks  Persons (number)        30-49 years  2008M07       Total  12171.0\n",
      "3  26 weeks  Persons (number)  50 years and over  2008M07       Total   7420.0\n",
      "4  39 weeks  Persons (number)         Age, total  2008M07       Total       ..\n",
      "5  39 weeks  Persons (number)        16-29 years  2008M07       Total       ..\n",
      "6  39 weeks  Persons (number)        30-49 years  2008M07       Total       ..\n",
      "7  39 weeks  Persons (number)  50 years and over  2008M07       Total       ..\n",
      "8  52 weeks  Persons (number)         Age, total  2008M07       Total       ..\n",
      "9  52 weeks  Persons (number)        16-29 years  2008M07       Total       ..\n",
      "unemp has shape (3500, 6)\n"
     ]
    }
   ],
   "source": [
    "# get the data from dst via an API and save it as 'unemp' \n",
    "unemp = dst.get_data(table_id = 'AULK10', variables = {'KMDR': ['*'], 'ENHED': ['1'], 'ALDER': ['*'], 'TID': ['*']})\n",
    "\n",
    "# see a snip of the data\n",
    "print(unemp.head(10))\n",
    "\n",
    "# see the shape of the data\n",
    "print(f'unemp has shape {unemp.shape}')"
   ]
  },
  {
   "cell_type": "markdown",
   "metadata": {},
   "source": [
    "# Cleaning and Structuring of Data"
   ]
  },
  {
   "cell_type": "markdown",
   "metadata": {},
   "source": [
    "The dataset needs to be cleaned and restructured before I can do analysis on it. First I drop the columns that are the same for all observations. After each cleaning step I look at a snip and the shape of the dataset to see what happened."
   ]
  },
  {
   "cell_type": "code",
   "execution_count": 4,
   "metadata": {},
   "outputs": [
    {
     "name": "stdout",
     "output_type": "stream",
     "text": [
      "       KMDR              ALDER      TID  INDHOLD\n",
      "0  26 weeks         Age, total  2008M07  23352.0\n",
      "1  26 weeks        16-29 years  2008M07   3761.0\n",
      "2  26 weeks        30-49 years  2008M07  12171.0\n",
      "3  26 weeks  50 years and over  2008M07   7420.0\n",
      "4  39 weeks         Age, total  2008M07       ..\n",
      "5  39 weeks        16-29 years  2008M07       ..\n",
      "6  39 weeks        30-49 years  2008M07       ..\n",
      "7  39 weeks  50 years and over  2008M07       ..\n",
      "8  52 weeks         Age, total  2008M07       ..\n",
      "9  52 weeks        16-29 years  2008M07       ..\n",
      "unemp has shape (3500, 4)\n"
     ]
    }
   ],
   "source": [
    "# drop the columns 'enhed' and 'ydelsestype' as they are the same for all observations\n",
    "unemp.drop(['ENHED','YDELSESTYPE'], axis = 1, inplace = True)\n",
    "\n",
    "# status after this\n",
    "print(unemp.head(10))\n",
    "print(f'unemp has shape {unemp.shape}')"
   ]
  },
  {
   "cell_type": "markdown",
   "metadata": {},
   "source": [
    "This step left the number of rows unchanged but decreased the number of columns from 6 to 4. Now we want to change the names of the variables (columns)."
   ]
  },
  {
   "cell_type": "code",
   "execution_count": 5,
   "metadata": {},
   "outputs": [
    {
     "name": "stdout",
     "output_type": "stream",
     "text": [
      "   duration                age    month n_persons\n",
      "0  26 weeks         Age, total  2008M07   23352.0\n",
      "1  26 weeks        16-29 years  2008M07    3761.0\n",
      "2  26 weeks        30-49 years  2008M07   12171.0\n",
      "3  26 weeks  50 years and over  2008M07    7420.0\n",
      "4  39 weeks         Age, total  2008M07        ..\n",
      "5  39 weeks        16-29 years  2008M07        ..\n",
      "6  39 weeks        30-49 years  2008M07        ..\n",
      "7  39 weeks  50 years and over  2008M07        ..\n",
      "8  52 weeks         Age, total  2008M07        ..\n",
      "9  52 weeks        16-29 years  2008M07        ..\n"
     ]
    }
   ],
   "source": [
    "# change the name of the columns by a dictionary\n",
    "columns_dict = {}\n",
    "columns_dict['KMDR'] = 'duration' # in weeks\n",
    "columns_dict['ALDER'] = 'age' # age groups and total\n",
    "columns_dict['TID'] = 'month'\n",
    "columns_dict['INDHOLD'] = 'n_persons' # number of persons\n",
    "\n",
    "unemp.rename(columns = columns_dict, inplace = True)\n",
    "print(unemp.head(10))"
   ]
  },
  {
   "cell_type": "markdown",
   "metadata": {},
   "source": [
    "The shape is unchanged and therefore not shown. Next up is to delete missings and change the datatypes. As the code below shows all of the variables are loaded as objects (strings), I need to make them more appropriate to do the analysis and the last cleaning.\n",
    "In this table Statistics Denmark named some observations '..' which is missings or too insecure to be shown. These are deleted."
   ]
  },
  {
   "cell_type": "code",
   "execution_count": 6,
   "metadata": {},
   "outputs": [
    {
     "name": "stdout",
     "output_type": "stream",
     "text": [
      "duration     object\n",
      "age          object\n",
      "month        object\n",
      "n_persons    object\n",
      "dtype: object\n",
      "duration              int32\n",
      "age                  object\n",
      "n_persons             int32\n",
      "date         datetime64[ns]\n",
      "dtype: object\n",
      "    duration                age  n_persons       date\n",
      "0         26         Age, total      23352 2008-07-01\n",
      "1         26        16-29 years       3761 2008-07-01\n",
      "2         26        30-49 years      12171 2008-07-01\n",
      "3         26  50 years and over       7420 2008-07-01\n",
      "28        26         Age, total      22433 2008-08-01\n",
      "unemp has shape (3128, 4)\n"
     ]
    }
   ],
   "source": [
    "# a. drop rows where n_persons='..' (missings)\n",
    "unemp = unemp[unemp.n_persons != '..'] \n",
    "\n",
    "# b. see the initial dataypes\n",
    "print(unemp.dtypes)\n",
    "\n",
    "# c. change type of n_persons and duration to integers \n",
    "unemp.n_persons = unemp.n_persons.astype(str).str[:-2] # isolate to the whole number of persons (drop ',0')\n",
    "unemp.n_persons = unemp.n_persons.astype(int) # convert n_persons to integer\n",
    "unemp.duration = unemp.duration.astype(str).str[:-6] # isolate the actual duration (drop ' weeks') \n",
    "unemp.duration = unemp.duration.astype(int) # convert duration to integer\n",
    "\n",
    "# d. take copy for later use\n",
    "unemp_copy = unemp.copy()\n",
    "\n",
    "# e. create date from month\n",
    "unemp['d'] = (unemp.month.astype(str).str[:4] # grab the year (first four digits)\n",
    "          + '/' # add /\n",
    "          + unemp.month.astype(str).str[-2:]) # grab the month (last two digits)\n",
    "unemp['date'] = pd.to_datetime(unemp.d, format = '%Y/%m')\n",
    "unemp.drop(['month', 'd'], axis = 1, inplace = True) # drop month and intermediate variable, d \n",
    "\n",
    "# f. check new types and shape\n",
    "print(unemp.dtypes)\n",
    "print(unemp.head(5))\n",
    "print(f'unemp has shape {unemp.shape}')"
   ]
  },
  {
   "cell_type": "markdown",
   "metadata": {},
   "source": [
    "The cleaning of missing values reduces the number of rows. In the documentation of the table Statistics Denmark defines long-term unemployment as a duration of 52 weeks or more. I will only consider the long-term unemployment."
   ]
  },
  {
   "cell_type": "code",
   "execution_count": 7,
   "metadata": {},
   "outputs": [
    {
     "name": "stdout",
     "output_type": "stream",
     "text": [
      "   duration                age  n_persons       date\n",
      "0        52         Age, total      10690 2009-01-01\n",
      "1        52        16-29 years       1329 2009-01-01\n",
      "2        52        30-49 years       5572 2009-01-01\n",
      "3        52  50 years and over       3789 2009-01-01\n",
      "4        52         Age, total      10600 2009-02-01\n",
      "unemp has shape (2140, 4)\n"
     ]
    }
   ],
   "source": [
    "# restrict the dataset to duration >= 52\n",
    "unemp = unemp.loc[unemp['duration'] >= 52]\n",
    "\n",
    "# reset index\n",
    "unemp.reset_index(inplace = True)\n",
    "unemp.drop(['index'], axis = 1, inplace = True) # delete the old index\n",
    "\n",
    "# see a snippet and the shape of the data\n",
    "print(unemp.head(5))\n",
    "print(f'unemp has shape {unemp.shape}')"
   ]
  },
  {
   "cell_type": "markdown",
   "metadata": {},
   "source": [
    "# Analysis"
   ]
  },
  {
   "cell_type": "markdown",
   "metadata": {},
   "source": [
    "## Descriptive Statics: Table and Static Figure with Mean"
   ]
  },
  {
   "cell_type": "markdown",
   "metadata": {},
   "source": [
    "Now the data is structured and cleaned and I begin the brief analysis. First I group the data both after age and duration. The descriptive statistic is then the **variation over time in the number of persons for each age-group and duration-group.**"
   ]
  },
  {
   "cell_type": "code",
   "execution_count": 8,
   "metadata": {},
   "outputs": [
    {
     "data": {
      "text/html": [
       "<div>\n",
       "<style scoped>\n",
       "    .dataframe tbody tr th:only-of-type {\n",
       "        vertical-align: middle;\n",
       "    }\n",
       "\n",
       "    .dataframe tbody tr th {\n",
       "        vertical-align: top;\n",
       "    }\n",
       "\n",
       "    .dataframe thead tr th {\n",
       "        text-align: left;\n",
       "    }\n",
       "\n",
       "    .dataframe thead tr:last-of-type th {\n",
       "        text-align: right;\n",
       "    }\n",
       "</style>\n",
       "<table border=\"1\" class=\"dataframe\">\n",
       "  <thead>\n",
       "    <tr>\n",
       "      <th></th>\n",
       "      <th></th>\n",
       "      <th colspan=\"3\" halign=\"left\">n_persons</th>\n",
       "    </tr>\n",
       "    <tr>\n",
       "      <th></th>\n",
       "      <th></th>\n",
       "      <th>count</th>\n",
       "      <th>mean</th>\n",
       "      <th>std</th>\n",
       "    </tr>\n",
       "    <tr>\n",
       "      <th>age</th>\n",
       "      <th>duration</th>\n",
       "      <th></th>\n",
       "      <th></th>\n",
       "      <th></th>\n",
       "    </tr>\n",
       "  </thead>\n",
       "  <tbody>\n",
       "    <tr>\n",
       "      <th rowspan=\"5\" valign=\"top\">16-29 years</th>\n",
       "      <th>52</th>\n",
       "      <td>119</td>\n",
       "      <td>3783.7</td>\n",
       "      <td>1163.5</td>\n",
       "    </tr>\n",
       "    <tr>\n",
       "      <th>78</th>\n",
       "      <td>113</td>\n",
       "      <td>1414.2</td>\n",
       "      <td>572.3</td>\n",
       "    </tr>\n",
       "    <tr>\n",
       "      <th>104</th>\n",
       "      <td>107</td>\n",
       "      <td>518.2</td>\n",
       "      <td>315.4</td>\n",
       "    </tr>\n",
       "    <tr>\n",
       "      <th>130</th>\n",
       "      <td>101</td>\n",
       "      <td>216.4</td>\n",
       "      <td>155.6</td>\n",
       "    </tr>\n",
       "    <tr>\n",
       "      <th>156</th>\n",
       "      <td>95</td>\n",
       "      <td>94.4</td>\n",
       "      <td>71.2</td>\n",
       "    </tr>\n",
       "    <tr>\n",
       "      <th rowspan=\"5\" valign=\"top\">30-49 years</th>\n",
       "      <th>52</th>\n",
       "      <td>119</td>\n",
       "      <td>14200.9</td>\n",
       "      <td>4651.4</td>\n",
       "    </tr>\n",
       "    <tr>\n",
       "      <th>78</th>\n",
       "      <td>113</td>\n",
       "      <td>7469.9</td>\n",
       "      <td>2694.7</td>\n",
       "    </tr>\n",
       "    <tr>\n",
       "      <th>104</th>\n",
       "      <td>107</td>\n",
       "      <td>4073.6</td>\n",
       "      <td>1561.4</td>\n",
       "    </tr>\n",
       "    <tr>\n",
       "      <th>130</th>\n",
       "      <td>101</td>\n",
       "      <td>2392.0</td>\n",
       "      <td>851.9</td>\n",
       "    </tr>\n",
       "    <tr>\n",
       "      <th>156</th>\n",
       "      <td>95</td>\n",
       "      <td>1464.4</td>\n",
       "      <td>452.7</td>\n",
       "    </tr>\n",
       "    <tr>\n",
       "      <th rowspan=\"5\" valign=\"top\">50 years and over</th>\n",
       "      <th>52</th>\n",
       "      <td>119</td>\n",
       "      <td>8973.4</td>\n",
       "      <td>3085.2</td>\n",
       "    </tr>\n",
       "    <tr>\n",
       "      <th>78</th>\n",
       "      <td>113</td>\n",
       "      <td>5113.8</td>\n",
       "      <td>1987.0</td>\n",
       "    </tr>\n",
       "    <tr>\n",
       "      <th>104</th>\n",
       "      <td>107</td>\n",
       "      <td>2921.8</td>\n",
       "      <td>1239.8</td>\n",
       "    </tr>\n",
       "    <tr>\n",
       "      <th>130</th>\n",
       "      <td>101</td>\n",
       "      <td>1761.5</td>\n",
       "      <td>668.8</td>\n",
       "    </tr>\n",
       "    <tr>\n",
       "      <th>156</th>\n",
       "      <td>95</td>\n",
       "      <td>1098.6</td>\n",
       "      <td>302.4</td>\n",
       "    </tr>\n",
       "    <tr>\n",
       "      <th rowspan=\"5\" valign=\"top\">Age, total</th>\n",
       "      <th>52</th>\n",
       "      <td>119</td>\n",
       "      <td>26957.9</td>\n",
       "      <td>8743.4</td>\n",
       "    </tr>\n",
       "    <tr>\n",
       "      <th>78</th>\n",
       "      <td>113</td>\n",
       "      <td>13997.9</td>\n",
       "      <td>5163.5</td>\n",
       "    </tr>\n",
       "    <tr>\n",
       "      <th>104</th>\n",
       "      <td>107</td>\n",
       "      <td>7513.6</td>\n",
       "      <td>3048.8</td>\n",
       "    </tr>\n",
       "    <tr>\n",
       "      <th>130</th>\n",
       "      <td>101</td>\n",
       "      <td>4369.9</td>\n",
       "      <td>1615.7</td>\n",
       "    </tr>\n",
       "    <tr>\n",
       "      <th>156</th>\n",
       "      <td>95</td>\n",
       "      <td>2657.4</td>\n",
       "      <td>775.4</td>\n",
       "    </tr>\n",
       "  </tbody>\n",
       "</table>\n",
       "</div>"
      ],
      "text/plain": [
       "                           n_persons                 \n",
       "                               count     mean     std\n",
       "age               duration                           \n",
       "16-29 years       52             119   3783.7  1163.5\n",
       "                  78             113   1414.2   572.3\n",
       "                  104            107    518.2   315.4\n",
       "                  130            101    216.4   155.6\n",
       "                  156             95     94.4    71.2\n",
       "30-49 years       52             119  14200.9  4651.4\n",
       "                  78             113   7469.9  2694.7\n",
       "                  104            107   4073.6  1561.4\n",
       "                  130            101   2392.0   851.9\n",
       "                  156             95   1464.4   452.7\n",
       "50 years and over 52             119   8973.4  3085.2\n",
       "                  78             113   5113.8  1987.0\n",
       "                  104            107   2921.8  1239.8\n",
       "                  130            101   1761.5   668.8\n",
       "                  156             95   1098.6   302.4\n",
       "Age, total        52             119  26957.9  8743.4\n",
       "                  78             113  13997.9  5163.5\n",
       "                  104            107   7513.6  3048.8\n",
       "                  130            101   4369.9  1615.7\n",
       "                  156             95   2657.4   775.4"
      ]
     },
     "execution_count": 8,
     "metadata": {},
     "output_type": "execute_result"
    }
   ],
   "source": [
    "# descriptive statics grouped by the age-groups and duration describes the data across time\n",
    "unemp.groupby(['age', 'duration']).agg(['count','mean','std']).round(1)"
   ]
  },
  {
   "cell_type": "markdown",
   "metadata": {},
   "source": [
    "The count is the same for each duration which shows that we have the same number of month-observations for each duration across age-groups. Furthermore we see that each duration have different number of month-observations - this will affect one of the coming graphs.\n",
    "\n",
    "When looking at the mean we see that the group of 30-49 old is the largest group of long-term unemployed persons and the 16-29 old are the smallest group for all durations. Notice that 'Age, total' is a sum of the 3 age-groups for each duration.\n",
    "\n",
    "The difference in level make it hard to compare the different age groups. A solution to that problem is to calculate index and look at the development over the months.\n",
    "\n",
    "But before I will compare the age-groups further I will dive more into the **mean number of persons of the 'Age, total'-group divided in different durations in Figure 1 below.**"
   ]
  },
  {
   "cell_type": "code",
   "execution_count": 9,
   "metadata": {},
   "outputs": [
    {
     "data": {
      "image/png": "[encoded data removed]",
      "text/plain": [
       "<Figure size 432x288 with 1 Axes>"
      ]
     },
     "metadata": {
      "needs_background": "light"
     },
     "output_type": "display_data"
    }
   ],
   "source": [
    "# a. figure with mean of each duration (across months) for total age\n",
    "mean = unemp.groupby(['age', 'duration']).mean()\n",
    "mean = mean.loc['Age, total'] # only look at total age\n",
    "\n",
    "# b. plot for total age\n",
    "def static_figure():\n",
    "    \n",
    "    # i. docstring\n",
    "    \"\"\" Makes a static figure of the mean number of persons of the 'Age, total'-group.\n",
    "    \n",
    "    Args: None  \n",
    "            \n",
    "    \"\"\"\n",
    "    \n",
    "    # ii. make the plot\n",
    "    ax = mean['n_persons'].plot(legend = True)\n",
    "    \n",
    "    # iii. set thousands separator on y-axis\n",
    "    ax.yaxis.set_major_formatter(mpl.ticker.StrMethodFormatter('{x:,.0f}'))\n",
    "    \n",
    "    # iv. set x-axis to the number of weeks according to duration\n",
    "    ax.set_xticks([52, 78, 104, 130, 156])\n",
    "    \n",
    "    # v. set labels\n",
    "    ax.set_ylabel('number of persons')\n",
    "    ax.set_xlabel('duration in weeks')\n",
    "    \n",
    "    # vi. set title\n",
    "    ax.set_title('Figure 1')\n",
    "\n",
    "# c. call the function\n",
    "static_figure()"
   ]
  },
  {
   "cell_type": "markdown",
   "metadata": {},
   "source": [
    "Not surprising the higher duration the lower number of people are unemployed. From the graph (and the descriptive table above) we see that the number of persons (on average across months) drops by more than 10,000 when looking at a duration of 78 weeks (1.5 year) relative to 52 weeks (1 year)."
   ]
  },
  {
   "cell_type": "markdown",
   "metadata": {
    "toc-hr-collapsed": false
   },
   "source": [
    "## Descriptive Statics: Interactive Figure with Indices"
   ]
  },
  {
   "cell_type": "markdown",
   "metadata": {},
   "source": [
    "Now I dive more into the comparison between the age-groups. This is done with indices which is calculated by \n",
    "\n",
    "\\\\[\n",
    "\\begin{eqnarray*}\n",
    "index & = & \\frac{value_t}{value_0}*100\n",
    "\\end{eqnarray*}\\\\]\n",
    "\n",
    "where 0 defines the basis-month. Here I will use the first available month as basis."
   ]
  },
  {
   "cell_type": "code",
   "execution_count": 10,
   "metadata": {},
   "outputs": [
    {
     "data": {
      "text/html": [
       "<div>\n",
       "<style scoped>\n",
       "    .dataframe tbody tr th:only-of-type {\n",
       "        vertical-align: middle;\n",
       "    }\n",
       "\n",
       "    .dataframe tbody tr th {\n",
       "        vertical-align: top;\n",
       "    }\n",
       "\n",
       "    .dataframe thead th {\n",
       "        text-align: right;\n",
       "    }\n",
       "</style>\n",
       "<table border=\"1\" class=\"dataframe\">\n",
       "  <thead>\n",
       "    <tr style=\"text-align: right;\">\n",
       "      <th></th>\n",
       "      <th>duration</th>\n",
       "      <th>age</th>\n",
       "      <th>n_persons</th>\n",
       "      <th>cal_index</th>\n",
       "    </tr>\n",
       "    <tr>\n",
       "      <th>date</th>\n",
       "      <th></th>\n",
       "      <th></th>\n",
       "      <th></th>\n",
       "      <th></th>\n",
       "    </tr>\n",
       "  </thead>\n",
       "  <tbody>\n",
       "    <tr>\n",
       "      <th>2009-01-01</th>\n",
       "      <td>52</td>\n",
       "      <td>Age, total</td>\n",
       "      <td>10690</td>\n",
       "      <td>100.000000</td>\n",
       "    </tr>\n",
       "    <tr>\n",
       "      <th>2009-01-01</th>\n",
       "      <td>52</td>\n",
       "      <td>16-29 years</td>\n",
       "      <td>1329</td>\n",
       "      <td>100.000000</td>\n",
       "    </tr>\n",
       "    <tr>\n",
       "      <th>2009-01-01</th>\n",
       "      <td>52</td>\n",
       "      <td>30-49 years</td>\n",
       "      <td>5572</td>\n",
       "      <td>100.000000</td>\n",
       "    </tr>\n",
       "    <tr>\n",
       "      <th>2009-01-01</th>\n",
       "      <td>52</td>\n",
       "      <td>50 years and over</td>\n",
       "      <td>3789</td>\n",
       "      <td>100.000000</td>\n",
       "    </tr>\n",
       "    <tr>\n",
       "      <th>2009-02-01</th>\n",
       "      <td>52</td>\n",
       "      <td>Age, total</td>\n",
       "      <td>10600</td>\n",
       "      <td>99.158092</td>\n",
       "    </tr>\n",
       "    <tr>\n",
       "      <th>2009-02-01</th>\n",
       "      <td>52</td>\n",
       "      <td>16-29 years</td>\n",
       "      <td>1315</td>\n",
       "      <td>98.946576</td>\n",
       "    </tr>\n",
       "    <tr>\n",
       "      <th>2009-02-01</th>\n",
       "      <td>52</td>\n",
       "      <td>30-49 years</td>\n",
       "      <td>5554</td>\n",
       "      <td>99.676956</td>\n",
       "    </tr>\n",
       "    <tr>\n",
       "      <th>2009-02-01</th>\n",
       "      <td>52</td>\n",
       "      <td>50 years and over</td>\n",
       "      <td>3731</td>\n",
       "      <td>98.469253</td>\n",
       "    </tr>\n",
       "    <tr>\n",
       "      <th>2009-03-01</th>\n",
       "      <td>52</td>\n",
       "      <td>Age, total</td>\n",
       "      <td>10736</td>\n",
       "      <td>100.430309</td>\n",
       "    </tr>\n",
       "    <tr>\n",
       "      <th>2009-03-01</th>\n",
       "      <td>52</td>\n",
       "      <td>16-29 years</td>\n",
       "      <td>1338</td>\n",
       "      <td>100.677201</td>\n",
       "    </tr>\n",
       "  </tbody>\n",
       "</table>\n",
       "</div>"
      ],
      "text/plain": [
       "            duration                age  n_persons   cal_index\n",
       "date                                                          \n",
       "2009-01-01        52         Age, total      10690  100.000000\n",
       "2009-01-01        52        16-29 years       1329  100.000000\n",
       "2009-01-01        52        30-49 years       5572  100.000000\n",
       "2009-01-01        52  50 years and over       3789  100.000000\n",
       "2009-02-01        52         Age, total      10600   99.158092\n",
       "2009-02-01        52        16-29 years       1315   98.946576\n",
       "2009-02-01        52        30-49 years       5554   99.676956\n",
       "2009-02-01        52  50 years and over       3731   98.469253\n",
       "2009-03-01        52         Age, total      10736  100.430309\n",
       "2009-03-01        52        16-29 years       1338  100.677201"
      ]
     },
     "execution_count": 10,
     "metadata": {},
     "output_type": "execute_result"
    }
   ],
   "source": [
    "# a. make copy\n",
    "unemp2 = unemp.copy()\n",
    "\n",
    "# b. sort\n",
    "unemp2.sort_values(by = ['date', 'duration'], inplace = True)\n",
    "unemp2.reset_index(inplace = True)\n",
    "unemp2.drop(['index'], axis = 1, inplace = True) # delete the old index\n",
    "\n",
    "# c. select the first element in a series\n",
    "def first(x): \n",
    "    return x.iloc[0]\n",
    "\n",
    "# d. group the data and calcualte the index\n",
    "grouped = unemp2.groupby(['duration', 'age'])\n",
    "unemp2['cal_index'] = grouped['n_persons'].transform(lambda x: x/first(x)*100)\n",
    "\n",
    "# e. set index = date to the figure (run only once!)\n",
    "unemp2.set_index('date', inplace = True)\n",
    "\n",
    "# f. check the dataset\n",
    "unemp2.head(10)"
   ]
  },
  {
   "cell_type": "markdown",
   "metadata": {},
   "source": [
    "In the next lines of code I make an **interactive figure with the calculated indices over time** where you can choose which duration you want to look at."
   ]
  },
  {
   "cell_type": "code",
   "execution_count": 11,
   "metadata": {},
   "outputs": [
    {
     "data": {
      "application/vnd.jupyter.widget-view+json": {
       "model_id": "5b7d68cbb05c40c9ba9c1271d9218c33",
       "version_major": 2,
       "version_minor": 0
      },
      "text/plain": [
       "interactive(children=(Dropdown(description='$duration$', options=(52, 78, 104, 130, 156), value=52), Output())…"
      ]
     },
     "metadata": {},
     "output_type": "display_data"
    },
    {
     "data": {
      "text/plain": [
       "<function __main__.interactive_figure(x=52)>"
      ]
     },
     "execution_count": 11,
     "metadata": {},
     "output_type": "execute_result"
    }
   ],
   "source": [
    "# a. plot that is used to the interactive figure\n",
    "def interactive_figure(x = 52):\n",
    "    \n",
    "    # i. docstring\n",
    "    \"\"\" Makes an interactive figure of the calcualted indices over time.\n",
    "    \n",
    "    Args: x : int\n",
    "        Duration.\n",
    "            \n",
    "    \"\"\"\n",
    "    \n",
    "    # ii. make the plot\n",
    "    I = unemp2.duration == x # plots only if duration = x (argument)\n",
    "    unemp2[I].groupby(['age'])['cal_index'].plot(legend = True) \n",
    "    \n",
    "    # iii. set labels\n",
    "    plt.xlabel('Year')\n",
    "    start_index = unemp2.loc[(unemp2['cal_index'] == 100.0) & (unemp2['duration'] == x)].index # find the basis-month\n",
    "    start_index2 = min(start_index) # as there is a month for each age-group we just select one of them (they are the same)\n",
    "    plt.ylabel(f'Index (100 = {start_index2.date()})') # an interactive y-label that shows the basis-month\n",
    "    \n",
    "    # iv. set title\n",
    "    plt.title('Figure 2')\n",
    "\n",
    "# b. print values for duration to use in the dropdown\n",
    "unemp2.duration.unique()\n",
    "\n",
    "# c. dropdown with durations\n",
    "widgets.interact(interactive_figure,\n",
    "    x = widgets.Dropdown(description = '$duration$', options = [52, 78, 104, 130, 156])\n",
    ")"
   ]
  },
  {
   "cell_type": "markdown",
   "metadata": {},
   "source": [
    "Figure 2 shows the development in long-term unemployment across age-groups and for different durations. It is seen e.g. for a duration of 104 weeks that the unemployment rises a lot from 2010-2012. From 2013 it starts to decrease and the group of 50+ years decreases fastest. Despite this the group of 16-29 year olds is at the lowest level relative to the basis-month in 2018, even lower than the level in the basis-month. Notice that the basis-month is showed on the y-axis and adjust for each duration."
   ]
  },
  {
   "cell_type": "markdown",
   "metadata": {},
   "source": [
    "# Long-term Unemployment and Gender"
   ]
  },
  {
   "cell_type": "markdown",
   "metadata": {},
   "source": [
    "To extend the analysis a bit I will examine how the long-term unemployment looks for each gender. In this part I only look at duration = 52 weeks, age total and the first month in the year. Firstly I prepare a version of the unemp-dataset to be merged with a gender-dataset. Then the gender-dataset is read from excel and prepared for merge. Afterwards the datasets are merged and plottet."
   ]
  },
  {
   "cell_type": "code",
   "execution_count": 12,
   "metadata": {},
   "outputs": [
    {
     "data": {
      "text/html": [
       "<div>\n",
       "<style scoped>\n",
       "    .dataframe tbody tr th:only-of-type {\n",
       "        vertical-align: middle;\n",
       "    }\n",
       "\n",
       "    .dataframe tbody tr th {\n",
       "        vertical-align: top;\n",
       "    }\n",
       "\n",
       "    .dataframe thead th {\n",
       "        text-align: right;\n",
       "    }\n",
       "</style>\n",
       "<table border=\"1\" class=\"dataframe\">\n",
       "  <thead>\n",
       "    <tr style=\"text-align: right;\">\n",
       "      <th></th>\n",
       "      <th>n_persons</th>\n",
       "      <th>year</th>\n",
       "    </tr>\n",
       "  </thead>\n",
       "  <tbody>\n",
       "    <tr>\n",
       "      <th>176</th>\n",
       "      <td>10690</td>\n",
       "      <td>2009</td>\n",
       "    </tr>\n",
       "    <tr>\n",
       "      <th>512</th>\n",
       "      <td>25239</td>\n",
       "      <td>2010</td>\n",
       "    </tr>\n",
       "    <tr>\n",
       "      <th>848</th>\n",
       "      <td>41527</td>\n",
       "      <td>2011</td>\n",
       "    </tr>\n",
       "    <tr>\n",
       "      <th>1184</th>\n",
       "      <td>38985</td>\n",
       "      <td>2012</td>\n",
       "    </tr>\n",
       "    <tr>\n",
       "      <th>1520</th>\n",
       "      <td>35939</td>\n",
       "      <td>2013</td>\n",
       "    </tr>\n",
       "    <tr>\n",
       "      <th>1856</th>\n",
       "      <td>30748</td>\n",
       "      <td>2014</td>\n",
       "    </tr>\n",
       "    <tr>\n",
       "      <th>2192</th>\n",
       "      <td>26317</td>\n",
       "      <td>2015</td>\n",
       "    </tr>\n",
       "    <tr>\n",
       "      <th>2528</th>\n",
       "      <td>22861</td>\n",
       "      <td>2016</td>\n",
       "    </tr>\n",
       "    <tr>\n",
       "      <th>2864</th>\n",
       "      <td>18847</td>\n",
       "      <td>2017</td>\n",
       "    </tr>\n",
       "    <tr>\n",
       "      <th>3200</th>\n",
       "      <td>20521</td>\n",
       "      <td>2018</td>\n",
       "    </tr>\n",
       "  </tbody>\n",
       "</table>\n",
       "</div>"
      ],
      "text/plain": [
       "      n_persons  year\n",
       "176       10690  2009\n",
       "512       25239  2010\n",
       "848       41527  2011\n",
       "1184      38985  2012\n",
       "1520      35939  2013\n",
       "1856      30748  2014\n",
       "2192      26317  2015\n",
       "2528      22861  2016\n",
       "2864      18847  2017\n",
       "3200      20521  2018"
      ]
     },
     "execution_count": 12,
     "metadata": {},
     "output_type": "execute_result"
    }
   ],
   "source": [
    "# a. select the relevant rows based on the selection described above\n",
    "unemp3 = unemp_copy.copy()\n",
    "unemp3 = unemp3.loc[unemp3['duration'] == 52] # only duration = 52\n",
    "unemp3 = unemp3.loc[unemp3['age'] == 'Age, total'] # only age, total\n",
    "unemp3['m'] = unemp3.month.astype(str).str[-2:] # isolate the month\n",
    "unemp3 = unemp3.loc[unemp3['m'] == '01'] # select only the first month each year\n",
    "\n",
    "# b. create new column with year and set it to int\n",
    "unemp3['year'] = unemp3.month.astype(str).str[:4]\n",
    "unemp3.year = unemp3.year.astype(int)\n",
    "\n",
    "# c. delete irrelevant columns\n",
    "unemp3.drop(['duration', 'age', 'month', 'm'], axis = 1, inplace = True)\n",
    "\n",
    "# d. see a snippet of the data\n",
    "unemp3.head(10)"
   ]
  },
  {
   "cell_type": "markdown",
   "metadata": {},
   "source": [
    "The gender-dataset is downloaded from 'statistikbanken.dk' table AULK09. The interesting variable is the percentage, which is the share of long-term unemployed relative to the total number of unemployed in the month splitted on gender."
   ]
  },
  {
   "cell_type": "code",
   "execution_count": 13,
   "metadata": {},
   "outputs": [
    {
     "data": {
      "text/html": [
       "<div>\n",
       "<style scoped>\n",
       "    .dataframe tbody tr th:only-of-type {\n",
       "        vertical-align: middle;\n",
       "    }\n",
       "\n",
       "    .dataframe tbody tr th {\n",
       "        vertical-align: top;\n",
       "    }\n",
       "\n",
       "    .dataframe thead th {\n",
       "        text-align: right;\n",
       "    }\n",
       "</style>\n",
       "<table border=\"1\" class=\"dataframe\">\n",
       "  <thead>\n",
       "    <tr style=\"text-align: right;\">\n",
       "      <th></th>\n",
       "      <th>gender01</th>\n",
       "      <th>year</th>\n",
       "      <th>percent</th>\n",
       "    </tr>\n",
       "  </thead>\n",
       "  <tbody>\n",
       "    <tr>\n",
       "      <th>0</th>\n",
       "      <td>Mænd</td>\n",
       "      <td>2009</td>\n",
       "      <td>6.2</td>\n",
       "    </tr>\n",
       "    <tr>\n",
       "      <th>1</th>\n",
       "      <td>Kvinder</td>\n",
       "      <td>2009</td>\n",
       "      <td>9.4</td>\n",
       "    </tr>\n",
       "    <tr>\n",
       "      <th>2</th>\n",
       "      <td>Mænd</td>\n",
       "      <td>2010</td>\n",
       "      <td>11.1</td>\n",
       "    </tr>\n",
       "    <tr>\n",
       "      <th>3</th>\n",
       "      <td>Kvinder</td>\n",
       "      <td>2010</td>\n",
       "      <td>11.6</td>\n",
       "    </tr>\n",
       "    <tr>\n",
       "      <th>4</th>\n",
       "      <td>Mænd</td>\n",
       "      <td>2011</td>\n",
       "      <td>19.2</td>\n",
       "    </tr>\n",
       "  </tbody>\n",
       "</table>\n",
       "</div>"
      ],
      "text/plain": [
       "  gender01  year  percent\n",
       "0     Mænd  2009      6.2\n",
       "1  Kvinder  2009      9.4\n",
       "2     Mænd  2010     11.1\n",
       "3  Kvinder  2010     11.6\n",
       "4     Mænd  2011     19.2"
      ]
     },
     "execution_count": 13,
     "metadata": {},
     "output_type": "execute_result"
    }
   ],
   "source": [
    "# a. import the downloaded dataset\n",
    "gender = pd.DataFrame()\n",
    "gender = pd.read_excel('AULK09.xlsx', skiprows=2, nrows=2)\n",
    "\n",
    "# b. clean dataset: drop irrelevant columns and rename one interesting\n",
    "gender.drop(['Unnamed: 0', 'Unnamed: 1', 'Unnamed: 2'], axis = 1, inplace = True)\n",
    "gender.rename(columns = {'Unnamed: 3':'gender01'}, inplace = True)\n",
    "\n",
    "# c. keep only columns that ends with 01 as we are only interested in the first months and gender\n",
    "gender = gender.loc[:, gender.columns.str.endswith('01')]\n",
    "\n",
    "# d. rename columns to prepare for reshaping the data\n",
    "mydict = {str(i)+'M01': f'percent{i}' for i in range(2009,2019)}\n",
    "gender.rename(columns = mydict, inplace=True)\n",
    "\n",
    "# e. convert to long format \n",
    "gender_l = pd.wide_to_long(gender, stubnames='percent', i='gender01', j='year').reset_index()\n",
    "\n",
    "# f. see a snippet of the data\n",
    "gender_l.head()"
   ]
  },
  {
   "cell_type": "markdown",
   "metadata": {},
   "source": [
    "Now the datasets are ready for merge. I use a left join as gender contains more rows than unemp3 because it is splitted into genders."
   ]
  },
  {
   "cell_type": "code",
   "execution_count": 14,
   "metadata": {},
   "outputs": [
    {
     "data": {
      "text/html": [
       "<div>\n",
       "<style scoped>\n",
       "    .dataframe tbody tr th:only-of-type {\n",
       "        vertical-align: middle;\n",
       "    }\n",
       "\n",
       "    .dataframe tbody tr th {\n",
       "        vertical-align: top;\n",
       "    }\n",
       "\n",
       "    .dataframe thead th {\n",
       "        text-align: right;\n",
       "    }\n",
       "</style>\n",
       "<table border=\"1\" class=\"dataframe\">\n",
       "  <thead>\n",
       "    <tr style=\"text-align: right;\">\n",
       "      <th></th>\n",
       "      <th>gender01</th>\n",
       "      <th>percent</th>\n",
       "      <th>n_persons</th>\n",
       "    </tr>\n",
       "    <tr>\n",
       "      <th>year</th>\n",
       "      <th></th>\n",
       "      <th></th>\n",
       "      <th></th>\n",
       "    </tr>\n",
       "  </thead>\n",
       "  <tbody>\n",
       "    <tr>\n",
       "      <th>2009</th>\n",
       "      <td>Mænd</td>\n",
       "      <td>6.2</td>\n",
       "      <td>10690</td>\n",
       "    </tr>\n",
       "    <tr>\n",
       "      <th>2009</th>\n",
       "      <td>Kvinder</td>\n",
       "      <td>9.4</td>\n",
       "      <td>10690</td>\n",
       "    </tr>\n",
       "    <tr>\n",
       "      <th>2010</th>\n",
       "      <td>Mænd</td>\n",
       "      <td>11.1</td>\n",
       "      <td>25239</td>\n",
       "    </tr>\n",
       "    <tr>\n",
       "      <th>2010</th>\n",
       "      <td>Kvinder</td>\n",
       "      <td>11.6</td>\n",
       "      <td>25239</td>\n",
       "    </tr>\n",
       "    <tr>\n",
       "      <th>2011</th>\n",
       "      <td>Mænd</td>\n",
       "      <td>19.2</td>\n",
       "      <td>41527</td>\n",
       "    </tr>\n",
       "  </tbody>\n",
       "</table>\n",
       "</div>"
      ],
      "text/plain": [
       "     gender01  percent  n_persons\n",
       "year                             \n",
       "2009     Mænd      6.2      10690\n",
       "2009  Kvinder      9.4      10690\n",
       "2010     Mænd     11.1      25239\n",
       "2010  Kvinder     11.6      25239\n",
       "2011     Mænd     19.2      41527"
      ]
     },
     "execution_count": 14,
     "metadata": {},
     "output_type": "execute_result"
    }
   ],
   "source": [
    "# merge n_persons on gender with left join\n",
    "merged = pd.merge(gender_l, unemp3, on = 'year', how = 'left')\n",
    "\n",
    "# set index equal to year\n",
    "merged.set_index('year', inplace = True)\n",
    "\n",
    "# see a snippet of the data\n",
    "merged.head()"
   ]
  },
  {
   "cell_type": "markdown",
   "metadata": {},
   "source": [
    "The merged dataset is actually splitted so each gender get it's own column (wide format) because I want to use it in a bar-graph. The graph becomes messy if using the groupby statement on the long-formatted dataframe. A line-graph could easily have been made directly on the merged dataset with groupby."
   ]
  },
  {
   "cell_type": "code",
   "execution_count": 15,
   "metadata": {},
   "outputs": [
    {
     "data": {
      "text/plain": [
       "<Figure size 432x288 with 0 Axes>"
      ]
     },
     "metadata": {},
     "output_type": "display_data"
    },
    {
     "data": {
      "image/png": "[encoded data removed]",
      "text/plain": [
       "<Figure size 432x288 with 1 Axes>"
      ]
     },
     "metadata": {
      "needs_background": "light"
     },
     "output_type": "display_data"
    },
    {
     "data": {
      "image/png": "[encoded data removed]",
      "text/plain": [
       "<Figure size 432x288 with 1 Axes>"
      ]
     },
     "metadata": {
      "needs_background": "light"
     },
     "output_type": "display_data"
    }
   ],
   "source": [
    "# a. create a new dataframe with genders at each columns (wide format)\n",
    "df = pd.DataFrame({'women': merged.loc[merged['gender01'] == 'Kvinder']['percent']})\n",
    "df['men'] = merged.loc[merged['gender01'] == 'Mænd']['percent']\n",
    "\n",
    "# b. plot the percentage in bar-plot\n",
    "fig = plt.figure()\n",
    "ax = df.plot(kind = 'bar')\n",
    "ax.set_ylabel('percent')\n",
    "ax.set_xlabel('january in year')\n",
    "ax.set_title('Figure 3')\n",
    "\n",
    "# c. plot the total number of unemployed with duration = 52 in line-plot\n",
    "fig2 = plt.figure()\n",
    "ay = merged.loc[merged['gender01'] == 'Kvinder']['n_persons'].plot(legend = True, linestyle = 'dashed', \n",
    "                                                              label = 'number of persons')\n",
    "ay.set_ylabel('number of persons')\n",
    "ay.set_xlabel('january in year')\n",
    "\n",
    "# d. set x-axis so they are the same for the two plots\n",
    "ay.set_xlim(2009, 2018)\n",
    "\n",
    "# e. format y-axis with thousands seperator\n",
    "ay.yaxis.set_major_formatter(mpl.ticker.StrMethodFormatter('{x:,.0f}'))\n",
    "\n",
    "plt.show()"
   ]
  },
  {
   "cell_type": "markdown",
   "metadata": {},
   "source": [
    "From the plots we see at all years after 2010 men has a larger share of long-term unemployed relative to all unemployed men. But it is only slightly larger than the share for women. When comparing the graphs we see that both the total number of unemployed and the share of long-term unemployed increases in the years 2009-2011. This reflects both that more people become unemployed => the share of long-term unemployed decreases and the already unemployed doesn't get out of unemployment and more people become long-term unemployed."
   ]
  },
  {
   "cell_type": "markdown",
   "metadata": {},
   "source": [
    "# Conclusion"
   ]
  },
  {
   "cell_type": "markdown",
   "metadata": {},
   "source": [
    "The notebook examines long-term unemployment both across age-groups, durations and gender. It is showed that the number of persons is decreasing in durations in Figure 1. Figure 2 is an interactive graph that allows the reader to pick the desired duration and compare the development in unemployment over time between different age-groups. For the duration of 104 weeks it was seen that the unemployment decreases fast from 2013 for the 50+ aged. Over time the young group reaches the lowest level of unemployment relative to the basis-month (index = 100). At last it was showed in figure 3 that men in most years have a sligthly higher share of long-term unemployed relative to gross unemployment than women."
   ]
  }
 ],
 "metadata": {
  "kernelspec": {
   "display_name": "Python 3",
   "language": "python",
   "name": "python3"
  },
  "language_info": {
   "codemirror_mode": {
    "name": "ipython",
    "version": 3
   },
   "file_extension": ".py",
   "mimetype": "text/x-python",
   "name": "python",
   "nbconvert_exporter": "python",
   "pygments_lexer": "ipython3",
   "version": "3.7.1"
  }
 },
 "nbformat": 4,
 "nbformat_minor": 2
}
