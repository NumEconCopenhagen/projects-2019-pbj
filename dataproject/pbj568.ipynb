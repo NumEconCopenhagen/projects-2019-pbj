{
 "cells": [
  {
   "cell_type": "markdown",
   "metadata": {},
   "source": [
    "# Introduction"
   ]
  },
  {
   "cell_type": "markdown",
   "metadata": {},
   "source": [
    "This notebook will look into long-term unemployment through a small analysis. First the data is found on Statistics Denmark, accessed by an API, cleaned and structured and afterwards analyzed briefly.\n",
    "First we import the packages that will be used in this notebook:"
   ]
  },
  {
   "cell_type": "code",
   "execution_count": 1,
   "metadata": {},
   "outputs": [],
   "source": [
    "# import relevant packages\n",
    "import numpy as np\n",
    "import matplotlib as mpl\n",
    "import matplotlib.pyplot as plt\n",
    "import ipywidgets as widgets\n",
    "import pandas as pd\n",
    "import pydst\n",
    "dst = pydst.Dst(lang = 'en')"
   ]
  },
  {
   "cell_type": "markdown",
   "metadata": {},
   "source": [
    "# Find data on Statistics Denmark"
   ]
  },
  {
   "cell_type": "markdown",
   "metadata": {},
   "source": [
    "Statistics Denmark contains a lot of tables. Therefore it was easier to go to [statisikbanken.dk (bank of statistics)](http://statistikbanken.dk/statbank5a/default.asp?w=1366) and surf around to find some interesting tables. We ended up with the table **AULK10** that contains unemployment after duration and age. In this notebook we will focus on long-term unemployment which is specied later in the code.\n",
    "\n",
    "Now we have considered what table to look at, we need some lines of code to decide what variables we are interested in."
   ]
  },
  {
   "cell_type": "code",
   "execution_count": 2,
   "metadata": {},
   "outputs": [
    {
     "name": "stdout",
     "output_type": "stream",
     "text": [
      "   elimination           id              text   time  \\\n",
      "0        False         KMDR          duration  False   \n",
      "1        False        ENHED              unit  False   \n",
      "2         True  YDELSESTYPE  type of benefits  False   \n",
      "3         True        ALDER               age  False   \n",
      "4        False          Tid              time   True   \n",
      "\n",
      "                                              values  \n",
      "0  [{'id': '026', 'text': '26 weeks'}, {'id': '03...  \n",
      "1  [{'id': '1', 'text': 'Persons (number)'}, {'id...  \n",
      "2  [{'id': 'TOT', 'text': 'Total'}, {'id': '01', ...  \n",
      "3  [{'id': 'TOT', 'text': 'Age, total'}, {'id': '...  \n",
      "4  [{'id': '2008M07', 'text': '2008M07'}, {'id': ...  \n"
     ]
    },
    {
     "data": {
      "text/plain": [
       "[{'id': '1', 'text': 'Persons (number)'},\n",
       " {'id': '4', 'text': 'Persons in pct. of gross unemployed'},\n",
       " {'id': '5', 'text': 'Persons per 1,000 in the labour force'}]"
      ]
     },
     "execution_count": 2,
     "metadata": {},
     "output_type": "execute_result"
    }
   ],
   "source": [
    "# see the name of the variables\n",
    "aulk10 = dst.get_variables(table_id = 'AULK10')\n",
    "print(aulk10)\n",
    "\n",
    "# explore the values for 'type of benefits' further to pick only one of them\n",
    "aulk10.loc[1]['values']"
   ]
  },
  {
   "cell_type": "markdown",
   "metadata": {},
   "source": [
    "The table consists of 5 variables: duration, unit, type of benefits, age and time. We choose to explore duration (grouped), age (grouped) and time. Because we don't want to explore different types of benefits we looked into the values for that variable and will in the next lines of code choose id=1: **persons (number).**"
   ]
  },
  {
   "cell_type": "code",
   "execution_count": 3,
   "metadata": {},
   "outputs": [
    {
     "name": "stdout",
     "output_type": "stream",
     "text": [
      "        KMDR             ENHED        ALDER      TID YDELSESTYPE  INDHOLD\n",
      "0  104 weeks  Persons (number)   Age, total  2013M03       Total   9261.0\n",
      "1  130 weeks  Persons (number)   Age, total  2013M03       Total   5624.0\n",
      "2  156 weeks  Persons (number)   Age, total  2013M03       Total   3332.0\n",
      "3   26 weeks  Persons (number)  16-29 years  2013M04       Total  14280.0\n",
      "4   39 weeks  Persons (number)  16-29 years  2013M04       Total   8414.0\n",
      "5   52 weeks  Persons (number)  16-29 years  2013M04       Total   4962.0\n",
      "6   78 weeks  Persons (number)  16-29 years  2013M04       Total   1990.0\n",
      "7  104 weeks  Persons (number)  16-29 years  2013M04       Total    754.0\n",
      "8  130 weeks  Persons (number)  16-29 years  2013M04       Total    403.0\n",
      "9  156 weeks  Persons (number)  16-29 years  2013M04       Total    195.0\n",
      "unemp has shape (3416, 6)\n"
     ]
    }
   ],
   "source": [
    "# get the data from dst via an API and save it as 'unemp' \n",
    "unemp = dst.get_data(table_id = 'AULK10', variables = {'KMDR': ['*'], 'ENHED': ['1'], 'ALDER': ['*'], 'TID': ['*']})\n",
    "\n",
    "# see a snip of the data\n",
    "print(unemp.head(10))\n",
    "\n",
    "# see the shape of the data\n",
    "print(f'unemp has shape {unemp.shape}')"
   ]
  },
  {
   "cell_type": "markdown",
   "metadata": {},
   "source": [
    "# Cleaning and structuring of data"
   ]
  },
  {
   "cell_type": "markdown",
   "metadata": {},
   "source": [
    "The dataset needs to be cleaned and restructured before we can do analysis on it. First we dopt the columns that are the same for all observations. After each cleaning step we look at a snip and the shape of the dataset to see what happened."
   ]
  },
  {
   "cell_type": "code",
   "execution_count": 4,
   "metadata": {},
   "outputs": [
    {
     "name": "stdout",
     "output_type": "stream",
     "text": [
      "        KMDR        ALDER      TID  INDHOLD\n",
      "0  104 weeks   Age, total  2013M03   9261.0\n",
      "1  130 weeks   Age, total  2013M03   5624.0\n",
      "2  156 weeks   Age, total  2013M03   3332.0\n",
      "3   26 weeks  16-29 years  2013M04  14280.0\n",
      "4   39 weeks  16-29 years  2013M04   8414.0\n",
      "5   52 weeks  16-29 years  2013M04   4962.0\n",
      "6   78 weeks  16-29 years  2013M04   1990.0\n",
      "7  104 weeks  16-29 years  2013M04    754.0\n",
      "8  130 weeks  16-29 years  2013M04    403.0\n",
      "9  156 weeks  16-29 years  2013M04    195.0\n",
      "unemp has shape (3416, 4)\n"
     ]
    }
   ],
   "source": [
    "# drop the columns 'enhed' and 'ydelsestype' as they are the same for all observations\n",
    "unemp.drop(['ENHED','YDELSESTYPE'], axis = 1, inplace = True)\n",
    "\n",
    "# status after this\n",
    "print(unemp.head(10))\n",
    "print(f'unemp has shape {unemp.shape}')"
   ]
  },
  {
   "cell_type": "markdown",
   "metadata": {},
   "source": [
    "This step left the number of rows unchanged but decreased the number of columns from 6 to 4. Now we want to change the names of the variables (columns)."
   ]
  },
  {
   "cell_type": "code",
   "execution_count": 5,
   "metadata": {},
   "outputs": [
    {
     "name": "stdout",
     "output_type": "stream",
     "text": [
      "    duration          age    month n_persons\n",
      "0  104 weeks   Age, total  2013M03    9261.0\n",
      "1  130 weeks   Age, total  2013M03    5624.0\n",
      "2  156 weeks   Age, total  2013M03    3332.0\n",
      "3   26 weeks  16-29 years  2013M04   14280.0\n",
      "4   39 weeks  16-29 years  2013M04    8414.0\n",
      "5   52 weeks  16-29 years  2013M04    4962.0\n",
      "6   78 weeks  16-29 years  2013M04    1990.0\n",
      "7  104 weeks  16-29 years  2013M04     754.0\n",
      "8  130 weeks  16-29 years  2013M04     403.0\n",
      "9  156 weeks  16-29 years  2013M04     195.0\n"
     ]
    }
   ],
   "source": [
    "# change the name of the columns by a dictionary\n",
    "columns_dict = {}\n",
    "columns_dict['KMDR'] = 'duration' # in weeks\n",
    "columns_dict['ALDER'] = 'age' # age groups and total\n",
    "columns_dict['TID'] = 'month'\n",
    "columns_dict['INDHOLD'] = 'n_persons' # number of persons\n",
    "\n",
    "unemp.rename(columns = columns_dict, inplace = True)\n",
    "print(unemp.head(10))"
   ]
  },
  {
   "cell_type": "markdown",
   "metadata": {},
   "source": [
    "The shape is unchanged and therefore not shown. Next up is to delete missings and change the datatypes. As the code below shows all of the variables are loaded as objects (strings) and we need to make them more appropriate to do the analyses and the last cleaning.\n",
    "In this table Statistics Denmark named some observations '..' which is missings or too insecure to be shown. These are deleted."
   ]
  },
  {
   "cell_type": "code",
   "execution_count": 6,
   "metadata": {},
   "outputs": [
    {
     "name": "stdout",
     "output_type": "stream",
     "text": [
      "duration     object\n",
      "age          object\n",
      "month        object\n",
      "n_persons    object\n",
      "dtype: object\n",
      "duration              int32\n",
      "age                  object\n",
      "n_persons             int32\n",
      "date         datetime64[ns]\n",
      "dtype: object\n",
      "   duration          age  n_persons       date\n",
      "0       104   Age, total       9261 2013-03-01\n",
      "1       130   Age, total       5624 2013-03-01\n",
      "2       156   Age, total       3332 2013-03-01\n",
      "3        26  16-29 years      14280 2013-04-01\n",
      "4        39  16-29 years       8414 2013-04-01\n",
      "unemp has shape (3044, 4)\n"
     ]
    }
   ],
   "source": [
    "# a. drop rows where n_persons='..' (missings)\n",
    "unemp = unemp[unemp.n_persons != '..'] \n",
    "\n",
    "# b. see the initial dataypes\n",
    "print(unemp.dtypes)\n",
    "\n",
    "# c. change type of n_persons and duration to integers \n",
    "unemp.n_persons = unemp.n_persons.astype(str).str[:-2] # isolate to the whole number of persons (drop ',0')\n",
    "unemp.n_persons = unemp.n_persons.astype(int) # convert n_persons to integer\n",
    "unemp.duration = unemp.duration.astype(str).str[:-6] # isolate the actual duration (drop ' weeks') \n",
    "unemp.duration = unemp.duration.astype(int) # convert to an integer\n",
    "\n",
    "# d. create date from month\n",
    "unemp['d'] = (unemp.month.astype(str).str[:4] # grab the year (first four digits)\n",
    "          + '/' # add /\n",
    "          + unemp.month.astype(str).str[-2:]) # grab the month (last two digits)\n",
    "unemp['date'] = pd.to_datetime(unemp.d, format = '%Y/%m')\n",
    "unemp.drop(['month', 'd'], axis = 1, inplace = True) # drop month and intermediate variable, d \n",
    "\n",
    "# e. check new types and shape\n",
    "print(unemp.dtypes)\n",
    "print(unemp.head(5))\n",
    "print(f'unemp has shape {unemp.shape}')"
   ]
  },
  {
   "cell_type": "markdown",
   "metadata": {},
   "source": [
    "The cleaning of missing values reduces the number of rows. In the documentation of the table Statistic Denmark defines long-term unemployment as a duration of 52 weeks or more. We will only consider the long-term unemployment."
   ]
  },
  {
   "cell_type": "code",
   "execution_count": 7,
   "metadata": {},
   "outputs": [
    {
     "name": "stdout",
     "output_type": "stream",
     "text": [
      "   duration          age  n_persons       date\n",
      "0       104   Age, total       9261 2013-03-01\n",
      "1       130   Age, total       5624 2013-03-01\n",
      "2       156   Age, total       3332 2013-03-01\n",
      "5        52  16-29 years       4962 2013-04-01\n",
      "6        78  16-29 years       1990 2013-04-01\n",
      "unemp has shape (2080, 4)\n"
     ]
    }
   ],
   "source": [
    "# restrict the dataset to duration >= 52\n",
    "unemp = unemp.loc[unemp['duration'] >= 52]\n",
    "\n",
    "# see a snippet and the shape of the data\n",
    "print(unemp.head(5))\n",
    "print(f'unemp has shape {unemp.shape}')"
   ]
  },
  {
   "cell_type": "markdown",
   "metadata": {},
   "source": [
    "# Analysis"
   ]
  },
  {
   "cell_type": "markdown",
   "metadata": {},
   "source": [
    "## Descriptive statics: Table and static figure with mean"
   ]
  },
  {
   "cell_type": "markdown",
   "metadata": {},
   "source": [
    "Now the data is structured and cleaned and we can begin our brief analysis. First we group the data both after age and duration. The descriptive statistic is then the **variation over time in the number of persons for each age-group and duration-group.**\n",
    "\n",
    "The count is the same for each duration which shows that we have the same number of month-observations for each duration across age-groups. Furthermore we see that each duration have different number of month-observations - this will affect one of the coming graphs.\n",
    "\n",
    "When looking at the mean we see that the group of 30-49 old is the largest group of long-term unemployed persons and the 16-29 old are the smallest group for all durations. Notice that 'Age, total' is a sum of the 3 age-groups for each duration.\n",
    "\n",
    "The difference in level make it hard to compare the different age groups. A solution to that problem is to calculate index and look at the development over the months."
   ]
  },
  {
   "cell_type": "code",
   "execution_count": 8,
   "metadata": {},
   "outputs": [
    {
     "name": "stdout",
     "output_type": "stream",
     "text": [
      "                           n_persons                                         \n",
      "                               count  mean  std   min   25%   50%   75%   max\n",
      "age               duration                                                   \n",
      "16-29 years       52             116  3787 1178  1315  2907  3771  4912  5701\n",
      "                  78             110  1418  580   582   915  1306  1954  2615\n",
      "                  104            104   525  317   128   242   424   790  1072\n",
      "                  130             98   222  155    41    84   171   379   545\n",
      "                  156             92    97   71    16    38    74   178   235\n",
      "30-49 years       52             116 14315 4655  5554 10258 14464 18860 21956\n",
      "                  78             110  7541 2696  3038  4948  7616  9878 12157\n",
      "                  104            104  4129 1549  1900  2611  4266  5282  6708\n",
      "                  130             98  2431  835  1128  1686  2468  3161  3965\n",
      "                  156             92  1486  444   679  1096  1475  1914  2168\n",
      "50 years and over 52             116  9057 3081  3731  6451  9060 11853 14338\n",
      "                  78             110  5173 1981  2265  3474  5022  6455  8887\n",
      "                  104            104  2961 1235  1499  1948  2756  3208  5529\n",
      "                  130             98  1786  664   956  1320  1694  1858  3390\n",
      "                  156             92  1110  301   652   943  1062  1172  1987\n",
      "Age, total        52             116 27159 8765 10600 20035 26864 35867 41995\n",
      "                  78             110 14131 5169  5885  9410 14002 17995 23335\n",
      "                  104            104  7615 3032  3620  4751  7786  9177 13309\n",
      "                  130             98  4438 1592  2214  3078  4564  5295  7900\n",
      "                  156             92  2692  763  1410  2078  2555  3277  4368\n"
     ]
    }
   ],
   "source": [
    "# descriptive statics grouped by the age-groups and duration describes the data across time\n",
    "desc = unemp.groupby(['age', 'duration']).describe()\n",
    "pd.options.display.float_format = '{:.0f}'.format # shows only one decimal\n",
    "print(desc)"
   ]
  },
  {
   "cell_type": "markdown",
   "metadata": {},
   "source": [
    "But before we will compare the age-groups further we will dive more into the **mean number of persons of the 'Age, total'-group divded in different durations in Figure 1 below.**\n",
    "\n",
    "Not surprising the higher duration the lower number of people are unemployed. From the graph (and the describtive table above) we see that the number of persons (on average across months) drops by more than 10,000 when looking at a duration of 78 weeks (1.5 year) relative to 52 weeks (1 year)."
   ]
  },
  {
   "cell_type": "code",
   "execution_count": 9,
   "metadata": {},
   "outputs": [
    {
     "data": {
      "image/png": "[encoded data removed]",
      "text/plain": [
       "<Figure size 432x288 with 1 Axes>"
      ]
     },
     "metadata": {
      "needs_background": "light"
     },
     "output_type": "display_data"
    }
   ],
   "source": [
    "# a. figure with mean of each duration (across months) for total age\n",
    "mean = unemp.groupby(['age', 'duration']).mean()\n",
    "mean = mean.loc['Age, total'] # only look at total age\n",
    "\n",
    "# b. plot for total age\n",
    "def static_figure():\n",
    "    \n",
    "    # i. docstring\n",
    "    \"\"\" Makes a static figure of the mean number of persons of the 'Age, total'-group.\n",
    "    \n",
    "    Args: None  \n",
    "            \n",
    "    \"\"\"\n",
    "    \n",
    "    # ii. make the plot\n",
    "    ax = mean['n_persons'].plot(legend = True)\n",
    "    \n",
    "    # iii. set thousands separator on y-axis\n",
    "    ax.yaxis.set_major_formatter(mpl.ticker.StrMethodFormatter('{x:,.0f}'))\n",
    "    \n",
    "    # iv. set x-axis to the number of weeks according to duration\n",
    "    ax.set_xticks([52, 78, 104, 130, 156])\n",
    "    \n",
    "    # v. set labels\n",
    "    ax.set_ylabel('number of persons')\n",
    "    ax.set_xlabel('duration in weeks')\n",
    "    \n",
    "    # vi. set title\n",
    "    ax.set_title('Figure 1')\n",
    "\n",
    "# c. call the function\n",
    "static_figure()\n"
   ]
  },
  {
   "cell_type": "markdown",
   "metadata": {
    "toc-hr-collapsed": false
   },
   "source": [
    "## Descriptive statics: Interactive figure with indices"
   ]
  },
  {
   "cell_type": "markdown",
   "metadata": {},
   "source": [
    "Now we dive more into the comparison between the age-groups. This is done with indices which is calculated by \n",
    "\n",
    "\\\\[\n",
    "\\begin{eqnarray*}\n",
    "index & = & \\frac{value_t}{value_0}*100\n",
    "\\end{eqnarray*}\\\\]\n",
    "\n",
    "where 0 defines the basis-month. Here we will use the first available month as basis."
   ]
  },
  {
   "cell_type": "code",
   "execution_count": 10,
   "metadata": {},
   "outputs": [
    {
     "name": "stdout",
     "output_type": "stream",
     "text": [
      "            duration                age  n_persons  cal_index\n",
      "date                                                         \n",
      "2009-01-01        52        16-29 years       1329        100\n",
      "2009-01-01        52        30-49 years       5572        100\n",
      "2009-01-01        52  50 years and over       3789        100\n",
      "2009-01-01        52         Age, total      10690        100\n",
      "2009-02-01        52        16-29 years       1315         99\n",
      "2009-02-01        52        30-49 years       5554        100\n",
      "2009-02-01        52  50 years and over       3731         98\n",
      "2009-02-01        52         Age, total      10600         99\n",
      "2009-03-01        52        16-29 years       1338        101\n",
      "2009-03-01        52        30-49 years       5638        101\n"
     ]
    }
   ],
   "source": [
    "# a. make copy\n",
    "unemp2 = unemp.copy()\n",
    "\n",
    "# b. sort\n",
    "unemp2.sort_values(by = ['date', 'duration'], inplace = True)\n",
    "unemp2.reset_index(inplace = True)\n",
    "unemp2.drop(['index'], axis = 1, inplace = True) #delete the old index\n",
    "\n",
    "# c. select the first element in a series\n",
    "def first(x): \n",
    "    return x.iloc[0]\n",
    "\n",
    "# d. group the data and calcualte the index\n",
    "grouped = unemp2.groupby(['duration', 'age'])\n",
    "unemp2['cal_index'] = grouped['n_persons'].transform(lambda x: x/first(x)*100)\n",
    "\n",
    "# e. set index to the figure (run only once!)\n",
    "unemp2.set_index('date', inplace = True)\n",
    "\n",
    "# f. check the dataset\n",
    "print(unemp2.head(10))"
   ]
  },
  {
   "cell_type": "markdown",
   "metadata": {},
   "source": [
    "In the next lines of code we make an **interactive figure with the calculated indices over time where you can choose which duration you want to look at.**"
   ]
  },
  {
   "cell_type": "code",
   "execution_count": 11,
   "metadata": {},
   "outputs": [
    {
     "data": {
      "application/vnd.jupyter.widget-view+json": {
       "model_id": "4bfd93c4a1dc4f32b59e8df8e0326805",
       "version_major": 2,
       "version_minor": 0
      },
      "text/plain": [
       "interactive(children=(Dropdown(description='$duration$', options=(52, 78, 104, 130, 156), value=52), Output())…"
      ]
     },
     "metadata": {},
     "output_type": "display_data"
    },
    {
     "data": {
      "text/plain": [
       "<function __main__.interactive_figure(x=52)>"
      ]
     },
     "execution_count": 11,
     "metadata": {},
     "output_type": "execute_result"
    }
   ],
   "source": [
    "# a. plot that is used to the interactive figure\n",
    "def interactive_figure(x = 52):\n",
    "    \n",
    "    # i. docstring\n",
    "    \"\"\" Makes an interactive figure of the calcualtes indices over time.\n",
    "    \n",
    "    Args: x : int\n",
    "        Duration.\n",
    "            \n",
    "    \"\"\"\n",
    "    \n",
    "    # ii. make the plot\n",
    "    I = unemp2.duration == x # plots only if duration = x (argument)\n",
    "    unemp2[I].groupby(['age'])['cal_index'].plot(legend = True) \n",
    "    \n",
    "    # iii. set labels\n",
    "    plt.xlabel('Year')\n",
    "    start_index = unemp2.loc[(unemp2['cal_index'] == 100.0) & (unemp2['duration'] == x)].index # find the basis-month\n",
    "    start_index2 = min(start_index) # as there is a month for each age-group we just select one of them (they are the same)\n",
    "    plt.ylabel(f'Index (100 = {start_index2.date()})') # an interactive y-label that shows the basis-month\n",
    "    \n",
    "    # iv. set title\n",
    "    plt.title('Figure 2')\n",
    "\n",
    "# b. print values for duration to use in the dropdown\n",
    "unemp2.duration.unique()\n",
    "\n",
    "# c. dropdown with durations\n",
    "widgets.interact(interactive_figure,\n",
    "    x = widgets.Dropdown(description = '$duration$', options = [52, 78, 104, 130, 156])\n",
    ")"
   ]
  },
  {
   "cell_type": "markdown",
   "metadata": {},
   "source": [
    "Figure 2 shows the development in long-term unemployment across age-groups and for different durations. It is seen e.g. for a duration of 104 weeks that the unemployment rises a lot from 2010-2012. From 2013 it starts to decrease and the group of 50+ years decreases fastest. Despite this the group of 16-29 year olds ends at the lowest level, even lower than the level in the basis-month. Notice that the basis-month is showed on the y-axis for each duration."
   ]
  }
 ],
 "metadata": {
  "kernelspec": {
   "display_name": "Python 3",
   "language": "python",
   "name": "python3"
  },
  "language_info": {
   "codemirror_mode": {
    "name": "ipython",
    "version": 3
   },
   "file_extension": ".py",
   "mimetype": "text/x-python",
   "name": "python",
   "nbconvert_exporter": "python",
   "pygments_lexer": "ipython3",
   "version": "3.7.1"
  }
 },
 "nbformat": 4,
 "nbformat_minor": 2
}
